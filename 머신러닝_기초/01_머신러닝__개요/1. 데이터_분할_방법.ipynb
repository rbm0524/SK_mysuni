{
 "cells": [
  {
   "cell_type": "markdown",
   "id": "fc1216b2",
   "metadata": {},
   "source": [
    "# 데이터 분할\n",
    "- 모델을 올바르게 학습시키기 위해서는 데이터를 분할\n",
    "    - 모든 데이터를 학습에 사용한 경우 일반화 성능 확인 불가\n",
    "    - 데이터의 일부를 학습에서 제외해서 학습이 완료된 모델을 통해 평가를 진행\n",
    "        - 현재 모델이 학습하지 않은 데이터에 대해 잘 예측할 수 있는지 확인\n",
    "\n",
    "- 전체 데이터의 75%를 학습 데이터로 25%를 평가 데이터로 분할\n",
    "    - 학습 데이터만 머신 러닝 모델의 학습에 사용\n",
    "    - 평가 데이터를 이용하여 머신 러닝 모델의 성능을 평가 "
   ]
  },
  {
   "cell_type": "markdown",
   "id": "e5d5971a",
   "metadata": {},
   "source": [
    "```python\n",
    "from sklearn.model_selection import train_test_split \n",
    "train_test_split(\n",
    "\t*arrays,             # 분리하고자하는 데이터\n",
    "\ttest_size=0.25,      # 테스트 데이터 비율\n",
    "\tshuffle=True,        # 데이터 셔플 적용 유무\n",
    "\tstratify=False,      # 층화 분리 적용 유무\n",
    "\trandom_state=None    # 시드값 \n",
    ") \n",
    "```"
   ]
  },
  {
   "cell_type": "code",
   "execution_count": 1,
   "id": "17df3c84",
   "metadata": {},
   "outputs": [
    {
     "data": {
      "text/plain": [
       "[1, 2, 3, 4, 5, 6, 7, 8, 9, 10]"
      ]
     },
     "execution_count": 1,
     "metadata": {},
     "output_type": "execute_result"
    }
   ],
   "source": [
    "# 분할에 사용할 데이터 생성\n",
    "data = [1, 2, 3, 4, 5, 6, 7, 8, 9, 10]\n",
    "data"
   ]
  },
  {
   "cell_type": "code",
   "execution_count": 2,
   "id": "74324fd5",
   "metadata": {},
   "outputs": [
    {
     "data": {
      "text/plain": [
       "[[6, 8, 5, 1, 4, 7, 3], [2, 9, 10]]"
      ]
     },
     "execution_count": 2,
     "metadata": {},
     "output_type": "execute_result"
    }
   ],
   "source": [
    "from sklearn.model_selection import train_test_split \n",
    "train_test_split(data)"
   ]
  },
  {
   "cell_type": "code",
   "execution_count": 3,
   "id": "1c6f3117",
   "metadata": {},
   "outputs": [
    {
     "data": {
      "text/plain": [
       "[[10, 2, 7, 8, 4, 1, 6], [3, 9, 5]]"
      ]
     },
     "execution_count": 3,
     "metadata": {},
     "output_type": "execute_result"
    }
   ],
   "source": [
    "# 분할 결과 재현을 위한 시드 지정\n",
    "train_test_split(data, random_state=0) # train / test 용 데이터셋으로 분할!(7.5:2.5인데 소수점은 버리기 때문에 7:3이 됨)"
   ]
  },
  {
   "cell_type": "code",
   "execution_count": 3,
   "id": "77ebcce7",
   "metadata": {},
   "outputs": [
    {
     "data": {
      "text/plain": [
       "[[2, 7, 8, 4, 1, 6], [3, 9, 5, 10]]"
      ]
     },
     "execution_count": 3,
     "metadata": {},
     "output_type": "execute_result"
    }
   ],
   "source": [
    "# 테스트 데이터 비율 조정\n",
    "train_test_split(data, test_size=0.4, random_state=0) # 6:4로 분할하고 싶으면 test_size 조절"
   ]
  },
  {
   "cell_type": "code",
   "execution_count": 4,
   "id": "8ebe1eeb",
   "metadata": {},
   "outputs": [
    {
     "data": {
      "text/plain": [
       "[[1, 2, 3, 4, 5, 6], [7, 8, 9, 10]]"
      ]
     },
     "execution_count": 4,
     "metadata": {},
     "output_type": "execute_result"
    }
   ],
   "source": [
    "# 데이터 셔플 미적용(안섞고 분리만!)\n",
    "train_test_split(data, test_size=0.4, shuffle=False, random_state=0)"
   ]
  },
  {
   "cell_type": "code",
   "execution_count": 5,
   "id": "598e9200",
   "metadata": {},
   "outputs": [
    {
     "data": {
      "text/plain": [
       "(5, 5)"
      ]
     },
     "execution_count": 5,
     "metadata": {},
     "output_type": "execute_result"
    }
   ],
   "source": [
    "# 분할에 사용할 데이터 생성\n",
    "X = [1, 2, 3, 4, 5]\n",
    "Y = [True, False, True, False, True]\n",
    "\n",
    "len(X), len(Y) # 데이터 개수가 일치해야함"
   ]
  },
  {
   "cell_type": "code",
   "execution_count": 6,
   "id": "67dc0eb7",
   "metadata": {},
   "outputs": [
    {
     "data": {
      "text/plain": [
       "[[2, 4, 5], [3, 1], [False, False, True], [True, True]]"
      ]
     },
     "execution_count": 6,
     "metadata": {},
     "output_type": "execute_result"
    }
   ],
   "source": [
    "# 두개의 변수 분할\n",
    "train_test_split(X, Y, random_state=0) # 동일한 index에 위치하는 것을 쌍으로 해서 split"
   ]
  },
  {
   "cell_type": "code",
   "execution_count": 12,
   "id": "095ab529",
   "metadata": {},
   "outputs": [],
   "source": [
    "# 분할 결과 저장\n",
    "x_train, x_test, y_train, y_test = train_test_split(X, Y, random_state=0)"
   ]
  },
  {
   "cell_type": "code",
   "execution_count": 13,
   "id": "8a913d55",
   "metadata": {},
   "outputs": [
    {
     "data": {
      "text/html": [
       "<div>\n",
       "<style scoped>\n",
       "    .dataframe tbody tr th:only-of-type {\n",
       "        vertical-align: middle;\n",
       "    }\n",
       "\n",
       "    .dataframe tbody tr th {\n",
       "        vertical-align: top;\n",
       "    }\n",
       "\n",
       "    .dataframe thead th {\n",
       "        text-align: right;\n",
       "    }\n",
       "</style>\n",
       "<table border=\"1\" class=\"dataframe\">\n",
       "  <thead>\n",
       "    <tr style=\"text-align: right;\">\n",
       "      <th></th>\n",
       "      <th>sepal length (cm)</th>\n",
       "      <th>sepal width (cm)</th>\n",
       "      <th>petal length (cm)</th>\n",
       "      <th>petal width (cm)</th>\n",
       "      <th>target</th>\n",
       "    </tr>\n",
       "  </thead>\n",
       "  <tbody>\n",
       "    <tr>\n",
       "      <th>0</th>\n",
       "      <td>5.1</td>\n",
       "      <td>3.5</td>\n",
       "      <td>1.4</td>\n",
       "      <td>0.2</td>\n",
       "      <td>0</td>\n",
       "    </tr>\n",
       "    <tr>\n",
       "      <th>1</th>\n",
       "      <td>4.9</td>\n",
       "      <td>3.0</td>\n",
       "      <td>1.4</td>\n",
       "      <td>0.2</td>\n",
       "      <td>0</td>\n",
       "    </tr>\n",
       "    <tr>\n",
       "      <th>2</th>\n",
       "      <td>4.7</td>\n",
       "      <td>3.2</td>\n",
       "      <td>1.3</td>\n",
       "      <td>0.2</td>\n",
       "      <td>0</td>\n",
       "    </tr>\n",
       "    <tr>\n",
       "      <th>3</th>\n",
       "      <td>4.6</td>\n",
       "      <td>3.1</td>\n",
       "      <td>1.5</td>\n",
       "      <td>0.2</td>\n",
       "      <td>0</td>\n",
       "    </tr>\n",
       "    <tr>\n",
       "      <th>4</th>\n",
       "      <td>5.0</td>\n",
       "      <td>3.6</td>\n",
       "      <td>1.4</td>\n",
       "      <td>0.2</td>\n",
       "      <td>0</td>\n",
       "    </tr>\n",
       "    <tr>\n",
       "      <th>...</th>\n",
       "      <td>...</td>\n",
       "      <td>...</td>\n",
       "      <td>...</td>\n",
       "      <td>...</td>\n",
       "      <td>...</td>\n",
       "    </tr>\n",
       "    <tr>\n",
       "      <th>145</th>\n",
       "      <td>6.7</td>\n",
       "      <td>3.0</td>\n",
       "      <td>5.2</td>\n",
       "      <td>2.3</td>\n",
       "      <td>2</td>\n",
       "    </tr>\n",
       "    <tr>\n",
       "      <th>146</th>\n",
       "      <td>6.3</td>\n",
       "      <td>2.5</td>\n",
       "      <td>5.0</td>\n",
       "      <td>1.9</td>\n",
       "      <td>2</td>\n",
       "    </tr>\n",
       "    <tr>\n",
       "      <th>147</th>\n",
       "      <td>6.5</td>\n",
       "      <td>3.0</td>\n",
       "      <td>5.2</td>\n",
       "      <td>2.0</td>\n",
       "      <td>2</td>\n",
       "    </tr>\n",
       "    <tr>\n",
       "      <th>148</th>\n",
       "      <td>6.2</td>\n",
       "      <td>3.4</td>\n",
       "      <td>5.4</td>\n",
       "      <td>2.3</td>\n",
       "      <td>2</td>\n",
       "    </tr>\n",
       "    <tr>\n",
       "      <th>149</th>\n",
       "      <td>5.9</td>\n",
       "      <td>3.0</td>\n",
       "      <td>5.1</td>\n",
       "      <td>1.8</td>\n",
       "      <td>2</td>\n",
       "    </tr>\n",
       "  </tbody>\n",
       "</table>\n",
       "<p>150 rows × 5 columns</p>\n",
       "</div>"
      ],
      "text/plain": [
       "     sepal length (cm)  sepal width (cm)  petal length (cm)  petal width (cm)  \\\n",
       "0                  5.1               3.5                1.4               0.2   \n",
       "1                  4.9               3.0                1.4               0.2   \n",
       "2                  4.7               3.2                1.3               0.2   \n",
       "3                  4.6               3.1                1.5               0.2   \n",
       "4                  5.0               3.6                1.4               0.2   \n",
       "..                 ...               ...                ...               ...   \n",
       "145                6.7               3.0                5.2               2.3   \n",
       "146                6.3               2.5                5.0               1.9   \n",
       "147                6.5               3.0                5.2               2.0   \n",
       "148                6.2               3.4                5.4               2.3   \n",
       "149                5.9               3.0                5.1               1.8   \n",
       "\n",
       "     target  \n",
       "0         0  \n",
       "1         0  \n",
       "2         0  \n",
       "3         0  \n",
       "4         0  \n",
       "..      ...  \n",
       "145       2  \n",
       "146       2  \n",
       "147       2  \n",
       "148       2  \n",
       "149       2  \n",
       "\n",
       "[150 rows x 5 columns]"
      ]
     },
     "execution_count": 13,
     "metadata": {},
     "output_type": "execute_result"
    }
   ],
   "source": [
    "# 데이터 분할을 위한 데이터 불러오기\n",
    "import pandas as pd\n",
    "df = pd.read_csv('/mnt/elice/dataset/iris.csv')\n",
    "df"
   ]
  },
  {
   "cell_type": "code",
   "execution_count": 14,
   "id": "042a9e93",
   "metadata": {},
   "outputs": [
    {
     "data": {
      "text/plain": [
       "((150, 4), (150,))"
      ]
     },
     "execution_count": 14,
     "metadata": {},
     "output_type": "execute_result"
    }
   ],
   "source": [
    "# X(특성)과 Y(레이블)로 분할\n",
    "X = df.iloc[:, :-1] # -1이 맨 마지막 열 -> Y니까 제외시키고 나머지를 X로 받은 것\n",
    "Y = df.iloc[:, -1] # 전체행을 가져오되, 맨 마지막 열만 가져온다. ->Y\n",
    "X.shape, Y.shape # 데이터 개수(150) 일치"
   ]
  },
  {
   "cell_type": "code",
   "execution_count": 16,
   "id": "ec3ece34",
   "metadata": {},
   "outputs": [
    {
     "name": "stdout",
     "output_type": "stream",
     "text": [
      "X Train Shape (112, 4)\n",
      "X Test Shape (38, 4)\n",
      "Y Train Shape (112,)\n",
      "Y Test Shape (38,)\n"
     ]
    }
   ],
   "source": [
    "# 데이터 분할 및 분할 결과 확인\n",
    "x_train, x_test, y_train, y_test = train_test_split(X, Y, random_state=0)\n",
    "print('X Train Shape', x_train.shape)\n",
    "print('X Test Shape', x_test.shape)\n",
    "print('Y Train Shape', y_train.shape)\n",
    "print('Y Test Shape', y_test.shape)"
   ]
  },
  {
   "cell_type": "code",
   "execution_count": 17,
   "id": "799303b3",
   "metadata": {},
   "outputs": [
    {
     "data": {
      "text/plain": [
       "0    0.333333\n",
       "1    0.333333\n",
       "2    0.333333\n",
       "Name: target, dtype: float64"
      ]
     },
     "execution_count": 17,
     "metadata": {},
     "output_type": "execute_result"
    }
   ],
   "source": [
    "pd.value_counts(Y, normalize=True) # 분할 전 비율"
   ]
  },
  {
   "cell_type": "code",
   "execution_count": 18,
   "id": "b5484e6e",
   "metadata": {},
   "outputs": [
    {
     "data": {
      "text/plain": [
       "2    0.366071\n",
       "0    0.330357\n",
       "1    0.303571\n",
       "Name: target, dtype: float64"
      ]
     },
     "execution_count": 18,
     "metadata": {},
     "output_type": "execute_result"
    }
   ],
   "source": [
    "pd.value_counts(y_train, normalize=True) # 분할 후 비율을 보니 학습용 y의 범주는 2가 더 많음"
   ]
  },
  {
   "cell_type": "code",
   "execution_count": 14,
   "id": "7c98e61c",
   "metadata": {},
   "outputs": [
    {
     "data": {
      "text/plain": [
       "1    0.421053\n",
       "0    0.342105\n",
       "2    0.236842\n",
       "Name: target, dtype: float64"
      ]
     },
     "execution_count": 14,
     "metadata": {},
     "output_type": "execute_result"
    }
   ],
   "source": [
    "pd.value_counts(y_test, normalize=True) # 테스트용 y의 범주는 1이 더 많음\n",
    "# 1이라는 값은 학습에는 가장 덜 쓰였는데 테스트할 때는 가장 많이 테스트되니까 지표에 오류가 발생할 수 있다."
   ]
  },
  {
   "cell_type": "code",
   "execution_count": 19,
   "id": "ca7f6876",
   "metadata": {},
   "outputs": [],
   "source": [
    "# 층화 분리 적용 (범주별 데이터를 최대한 비슷 비율로 분리)\n",
    "x_train, x_test, y_train, y_test = train_test_split(X, Y, stratify=Y, random_state=0)"
   ]
  },
  {
   "cell_type": "code",
   "execution_count": 20,
   "id": "0fc2b9ab",
   "metadata": {},
   "outputs": [
    {
     "data": {
      "text/plain": [
       "2    0.339286\n",
       "1    0.330357\n",
       "0    0.330357\n",
       "Name: target, dtype: float64"
      ]
     },
     "execution_count": 20,
     "metadata": {},
     "output_type": "execute_result"
    }
   ],
   "source": [
    "pd.value_counts(y_train, normalize=True) # 딱 맞게는 안되어도, 최대한 비슷하게 맞춘 것"
   ]
  },
  {
   "cell_type": "code",
   "execution_count": 21,
   "id": "a903c6f1",
   "metadata": {},
   "outputs": [
    {
     "data": {
      "text/plain": [
       "0    0.342105\n",
       "1    0.342105\n",
       "2    0.315789\n",
       "Name: target, dtype: float64"
      ]
     },
     "execution_count": 21,
     "metadata": {},
     "output_type": "execute_result"
    }
   ],
   "source": [
    "pd.value_counts(y_test, normalize=True)"
   ]
  },
  {
   "cell_type": "markdown",
   "id": "bce79464",
   "metadata": {},
   "source": [
    "## 제출\n",
    "\n",
    "제출을 위해 새로 불러온 `iris.csv` 데이터를 층화 분리를 적용하여 학습과 테스트 데이터로 분리한 이후, 학습 데이터의 라벨값(`y_train`)을 `result`에 저장하세요.\n",
    "- 테스트 데이터의 size는 0.3으로 설정합니다.\n",
    "- `random_state` 값은 반드시 `SEED`로 설정합니다."
   ]
  },
  {
   "cell_type": "code",
   "execution_count": 26,
   "id": "aeb92a7a",
   "metadata": {},
   "outputs": [],
   "source": [
    "df = pd.read_csv('/mnt/elice/dataset/iris.csv')\n",
    "\n",
    "# SEED 값 바꾸면 제대로 채점되지 않을 수 있습니다.\n",
    "SEED = 2023\n",
    "\n",
    "X = df.iloc[:, :-1]\n",
    "Y = df.iloc[:, -1]\n",
    "\n",
    "x_train, x_test, y_train, y_test = train_test_split(X, Y, test_size = 0.3, stratify = Y, random_state = SEED)\n",
    "\n",
    "# TODO: 층화 분리를 적용한 이후 학습데이터의 라벨을 저장하세요.\n",
    "result = y_train"
   ]
  },
  {
   "cell_type": "markdown",
   "id": "aef0fc2f",
   "metadata": {},
   "source": [
    "## 채점 수행\n",
    "\n",
    "아래 코드는 채점 수행을 위한 코드입니다.\n",
    "\n",
    "따라서 이를 수정했을시 **채점이 제대로 이루어지지 않습니다.**\n",
    "\n",
    "**주의**: 채점 코드를 실행하기 전에 반드시 코드 파일을 한번 저장하시길 바랍니다."
   ]
  },
  {
   "cell_type": "code",
   "execution_count": 27,
   "id": "a31e5a1a",
   "metadata": {},
   "outputs": [
    {
     "name": "stdout",
     "output_type": "stream",
     "text": [
      "send files ['result.json', 'cds_ai_exercise.ipynb'] for grade...\n",
      "waiting result...\n",
      "waiting result...\n",
      "waiting result...\n",
      "done!\n",
      "\n",
      "Score: 100.000000\n",
      "Duration: 2.655 seconds\n",
      "=== Message ===\n",
      "제출 완료되었습니다.\n"
     ]
    },
    {
     "data": {
      "text/plain": [
       "0"
      ]
     },
     "execution_count": 27,
     "metadata": {},
     "output_type": "execute_result"
    }
   ],
   "source": [
    "import os\n",
    "import numpy as np\n",
    "\n",
    "assert isinstance(result, (pd.Series, np.ndarray, list)), \\\n",
    "    \"'result' 변수에 저장된 라벨 데이터의 타입이 Series, numpy array, list 중 하나인지 확인하세요.\"\n",
    "\n",
    "pd.value_counts(result, normalize=True).to_json('result.json')\n",
    "\n",
    "os.system('elice_grade result.json cds_ai_exercise.ipynb')"
   ]
  },
  {
   "cell_type": "code",
   "execution_count": null,
   "id": "627e368d",
   "metadata": {},
   "outputs": [],
   "source": []
  }
 ],
 "metadata": {
  "kernelspec": {
   "display_name": "Python 3 (ipykernel)",
   "language": "python",
   "name": "python3"
  },
  "language_info": {
   "codemirror_mode": {
    "name": "ipython",
    "version": 3
   },
   "file_extension": ".py",
   "mimetype": "text/x-python",
   "name": "python",
   "nbconvert_exporter": "python",
   "pygments_lexer": "ipython3",
   "version": "3.10.10"
  },
  "vscode": {
   "interpreter": {
    "hash": "7f165b7dd02acb5f15d9542284b1c771e139a38d08f007b94e9150fcdff51bba"
   }
  }
 },
 "nbformat": 4,
 "nbformat_minor": 5
}
