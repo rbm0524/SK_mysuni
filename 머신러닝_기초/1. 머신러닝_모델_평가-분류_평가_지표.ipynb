{
 "cells": [
  {
   "cell_type": "markdown",
   "id": "4d339033",
   "metadata": {},
   "source": [
    "# 분류 (Classification)\n",
    "- 어떤 대상을 정해진 범주에 구분해 넣는 작업\n",
    "- **주어진 특성에 따라 어떤 대상을 범주(target)로 구분하는 방법**\n",
    "    - 레이블 또는 타겟이 범주형일때 사용\n",
    "- 범주가 2개인 경우 **이진 분류 (Binary Classification)**\n",
    "- 범주가 세개 이상인 경우 **다중 분류 (MultiClass Classification)**"
   ]
  },
  {
   "cell_type": "code",
   "execution_count": 1,
   "id": "e4b78aeb",
   "metadata": {},
   "outputs": [
    {
     "data": {
      "text/html": [
       "<div>\n",
       "<style scoped>\n",
       "    .dataframe tbody tr th:only-of-type {\n",
       "        vertical-align: middle;\n",
       "    }\n",
       "\n",
       "    .dataframe tbody tr th {\n",
       "        vertical-align: top;\n",
       "    }\n",
       "\n",
       "    .dataframe thead th {\n",
       "        text-align: right;\n",
       "    }\n",
       "</style>\n",
       "<table border=\"1\" class=\"dataframe\">\n",
       "  <thead>\n",
       "    <tr style=\"text-align: right;\">\n",
       "      <th></th>\n",
       "      <th>실제값</th>\n",
       "      <th>예측값</th>\n",
       "    </tr>\n",
       "  </thead>\n",
       "  <tbody>\n",
       "    <tr>\n",
       "      <th>0</th>\n",
       "      <td>0</td>\n",
       "      <td>0</td>\n",
       "    </tr>\n",
       "    <tr>\n",
       "      <th>1</th>\n",
       "      <td>1</td>\n",
       "      <td>1</td>\n",
       "    </tr>\n",
       "    <tr>\n",
       "      <th>2</th>\n",
       "      <td>0</td>\n",
       "      <td>0</td>\n",
       "    </tr>\n",
       "    <tr>\n",
       "      <th>3</th>\n",
       "      <td>1</td>\n",
       "      <td>1</td>\n",
       "    </tr>\n",
       "    <tr>\n",
       "      <th>4</th>\n",
       "      <td>1</td>\n",
       "      <td>0</td>\n",
       "    </tr>\n",
       "    <tr>\n",
       "      <th>5</th>\n",
       "      <td>0</td>\n",
       "      <td>0</td>\n",
       "    </tr>\n",
       "    <tr>\n",
       "      <th>6</th>\n",
       "      <td>1</td>\n",
       "      <td>0</td>\n",
       "    </tr>\n",
       "  </tbody>\n",
       "</table>\n",
       "</div>"
      ],
      "text/plain": [
       "   실제값  예측값\n",
       "0    0    0\n",
       "1    1    1\n",
       "2    0    0\n",
       "3    1    1\n",
       "4    1    0\n",
       "5    0    0\n",
       "6    1    0"
      ]
     },
     "execution_count": 1,
     "metadata": {},
     "output_type": "execute_result"
    }
   ],
   "source": [
    "# 분류 예측 결과 데이터 불러오기\n",
    "import pandas as pd\n",
    "df = pd.read_csv('/mnt/elice/dataset/classification result.csv')\n",
    "df"
   ]
  },
  {
   "cell_type": "markdown",
   "id": "3f8c5ed0",
   "metadata": {},
   "source": [
    "## 혼동 행렬(Confusion Matrix)\n",
    "- `sklearn.metrics.confusion_matrix`\n",
    "- 예측 값이 실제 값과 일치하는지 분류하는 분류표\n",
    "- 표의 한쪽 열에는 예측한 범주, 다른 한쪽은 실제 범주를 나타냄\n",
    "- 이진 분류의 경우 예측한 범주와 실제 범주에 따라 4가지 지표로 볼 수 있음\n",
    "    - True Positive : Positive로 예측된 결과가 맞음\n",
    "    - False Negative : Negative로 예측된 결과가 틀림\n",
    "    - False Positive : Positive로 예측된 결과가 틀림\n",
    "    - True Negative : Negative로 예측된 결과가 맞음"
   ]
  },
  {
   "cell_type": "code",
   "execution_count": 2,
   "id": "df5468fe",
   "metadata": {},
   "outputs": [
    {
     "data": {
      "text/plain": [
       "array([[3, 0],\n",
       "       [2, 2]])"
      ]
     },
     "execution_count": 2,
     "metadata": {},
     "output_type": "execute_result"
    }
   ],
   "source": [
    "# 혼동 행렬 계산\n",
    "from sklearn.metrics import confusion_matrix\n",
    "confusion_matrix(df['실제값'], df['예측값'])\n",
    "# 실제값과 예측값을 주면 알아서 혼동행렬(2차원 리스트로)을 계산해준다."
   ]
  },
  {
   "cell_type": "code",
   "execution_count": 3,
   "id": "f02235db",
   "metadata": {},
   "outputs": [
    {
     "name": "stdout",
     "output_type": "stream",
     "text": [
      "True Negative : 3\n",
      "False Positive : 0\n",
      "False Negative : 2\n",
      "True Positive : 2\n"
     ]
    }
   ],
   "source": [
    "# 혼동 행렬 계산 결과 저장\n",
    "tn, fp, fn, tp = confusion_matrix(df['실제값'], df['예측값']).ravel() # 1차원 데이터로 만들어준다.\n",
    "print('True Negative :', tn)\n",
    "print('False Positive :', fp)\n",
    "print('False Negative :', fn)\n",
    "print('True Positive :', tp)"
   ]
  },
  {
   "cell_type": "markdown",
   "id": "322511d2",
   "metadata": {},
   "source": [
    "## 정확도(Accuracy) \n",
    "- `sklearn.metrics.accuracy_score`\n",
    "- (𝑇𝑃+𝑇𝑁)/(𝑇𝑃+𝐹𝑁+𝐹𝑃+𝑇𝑁)\n",
    "- 전체 데이터 중 올바르게 분류 한 비율"
   ]
  },
  {
   "cell_type": "code",
   "execution_count": 4,
   "id": "c4269cfd",
   "metadata": {},
   "outputs": [
    {
     "data": {
      "text/plain": [
       "0.7142857142857143"
      ]
     },
     "execution_count": 4,
     "metadata": {},
     "output_type": "execute_result"
    }
   ],
   "source": [
    "(tp + tn) / (tp + fn + fp + tn)"
   ]
  },
  {
   "cell_type": "code",
   "execution_count": 5,
   "id": "ad441cad",
   "metadata": {},
   "outputs": [
    {
     "data": {
      "text/plain": [
       "0.7142857142857143"
      ]
     },
     "execution_count": 5,
     "metadata": {},
     "output_type": "execute_result"
    }
   ],
   "source": [
    "from sklearn.metrics import accuracy_score # sklearn.metrics : 평가함수들이 모여있는 라이브러리\n",
    "accuracy_score(df['실제값'], df['예측값'])"
   ]
  },
  {
   "cell_type": "markdown",
   "id": "d3ebd7d8",
   "metadata": {},
   "source": [
    "## 재현률(Recall)\n",
    "- `sklearn.metrics.recall_score`\n",
    "- 𝑇𝑃/(𝑇𝑃+𝐹𝑁)\n",
    "- 실제 전체 긍정 수에서 참 긍정의 비율"
   ]
  },
  {
   "cell_type": "code",
   "execution_count": 6,
   "id": "5da6cdd5",
   "metadata": {},
   "outputs": [
    {
     "data": {
      "text/plain": [
       "0.5"
      ]
     },
     "execution_count": 6,
     "metadata": {},
     "output_type": "execute_result"
    }
   ],
   "source": [
    "tp / (tp + fn)"
   ]
  },
  {
   "cell_type": "code",
   "execution_count": 7,
   "id": "8c3c69e5",
   "metadata": {},
   "outputs": [
    {
     "data": {
      "text/plain": [
       "0.5"
      ]
     },
     "execution_count": 7,
     "metadata": {},
     "output_type": "execute_result"
    }
   ],
   "source": [
    "from sklearn.metrics import recall_score\n",
    "recall_score(df['실제값'], df['예측값'])"
   ]
  },
  {
   "cell_type": "markdown",
   "id": "eb2c87dd",
   "metadata": {},
   "source": [
    "## 정밀도(Precision)  \n",
    "- `sklearn.metrics.precision_score`\n",
    "- 𝑇𝑃/(𝑇𝑃+𝐹𝑃)\n",
    "- 예측한 전체 긍정 중 참 긍정의 비율\n"
   ]
  },
  {
   "cell_type": "code",
   "execution_count": 8,
   "id": "23d5a3ae",
   "metadata": {},
   "outputs": [
    {
     "data": {
      "text/plain": [
       "1.0"
      ]
     },
     "execution_count": 8,
     "metadata": {},
     "output_type": "execute_result"
    }
   ],
   "source": [
    "tp / (tp + fp)"
   ]
  },
  {
   "cell_type": "code",
   "execution_count": 9,
   "id": "6a7e37e3",
   "metadata": {},
   "outputs": [
    {
     "data": {
      "text/plain": [
       "1.0"
      ]
     },
     "execution_count": 9,
     "metadata": {},
     "output_type": "execute_result"
    }
   ],
   "source": [
    "from sklearn.metrics import precision_score\n",
    "precision_score(df['실제값'], df['예측값'])"
   ]
  },
  {
   "cell_type": "markdown",
   "id": "1b6a002e",
   "metadata": {},
   "source": [
    "## F1 Score  \n",
    "- `sklearn.metrics.f1_score`\n",
    "- 2𝑇𝑃/(2𝑇𝑃+𝐹𝑃+𝐹𝑁)\n",
    "- 정밀도와 재현율의 조화 평균\n",
    "- 정밀도과 재현율이 0에 가까울수록 F1 score도 동일하게 낮은 값을 갖도록 하기 위함"
   ]
  },
  {
   "cell_type": "code",
   "execution_count": 10,
   "id": "4840cfce",
   "metadata": {},
   "outputs": [
    {
     "data": {
      "text/plain": [
       "0.6666666666666666"
      ]
     },
     "execution_count": 10,
     "metadata": {},
     "output_type": "execute_result"
    }
   ],
   "source": [
    "2 * tp / (2 * tp + fp + fn)"
   ]
  },
  {
   "cell_type": "code",
   "execution_count": 11,
   "id": "bf468b11",
   "metadata": {},
   "outputs": [
    {
     "data": {
      "text/plain": [
       "0.6666666666666666"
      ]
     },
     "execution_count": 11,
     "metadata": {},
     "output_type": "execute_result"
    }
   ],
   "source": [
    "from sklearn.metrics import f1_score\n",
    "f1_score(df['실제값'], df['예측값'])"
   ]
  },
  {
   "cell_type": "markdown",
   "id": "6830233a",
   "metadata": {},
   "source": [
    "## RoC(Receiver operating characteristic) Curve\n",
    "- `sklearn.metrics.roc_curve`\n",
    "- 거짓 긍정 비율(FPR)과 참 긍정 비율(TPR) 간의 관계\n"
   ]
  },
  {
   "cell_type": "code",
   "execution_count": 12,
   "id": "f6fde56c",
   "metadata": {},
   "outputs": [
    {
     "name": "stdout",
     "output_type": "stream",
     "text": [
      "FPR [0.]\n",
      "TPR [0.5]\n",
      "thresholds [1]\n"
     ]
    }
   ],
   "source": [
    "from sklearn.metrics import roc_curve\n",
    "fpr, tpr, thresholds = roc_curve(df['실제값'], df['예측값'])\n",
    "\n",
    "# 처음과 마지막 값은 그래프를 그리기 위해 사용되는 값\n",
    "print('FPR', fpr[1:-1]) # 그래서 0번째말고 1번째부터 -2번째까지만 들고온 것\n",
    "print('TPR', tpr[1:-1])\n",
    "print('thresholds', thresholds[1:-1])"
   ]
  },
  {
   "cell_type": "markdown",
   "id": "93819333",
   "metadata": {},
   "source": [
    "## AUC(Area Under the Curve)\n",
    "- `sklearn.metrics.roc_auc_score`\n",
    "- Curve 영역의 면적\n",
    "    - 1에 가까울수록 성능이 좋음"
   ]
  },
  {
   "cell_type": "code",
   "execution_count": 15,
   "id": "dbd91a02",
   "metadata": {},
   "outputs": [
    {
     "data": {
      "text/plain": [
       "0.75"
      ]
     },
     "execution_count": 15,
     "metadata": {},
     "output_type": "execute_result"
    }
   ],
   "source": [
    "from sklearn.metrics import roc_auc_score\n",
    "roc_auc_score(df['실제값'], df['예측값'])"
   ]
  },
  {
   "cell_type": "code",
   "execution_count": 16,
   "id": "8783ed8c",
   "metadata": {},
   "outputs": [
    {
     "data": {
      "text/plain": [
       "0.75"
      ]
     },
     "execution_count": 16,
     "metadata": {},
     "output_type": "execute_result"
    }
   ],
   "source": [
    "from sklearn.metrics import auc\n",
    "auc(fpr, tpr) # X축, Y축"
   ]
  },
  {
   "cell_type": "markdown",
   "id": "088403d6",
   "metadata": {},
   "source": [
    "# RoC Cruve 시각화"
   ]
  },
  {
   "cell_type": "code",
   "execution_count": 17,
   "id": "52f54eb1",
   "metadata": {},
   "outputs": [
    {
     "data": {
      "text/plain": [
       "<matplotlib.legend.Legend at 0x7f87742a2f50>"
      ]
     },
     "execution_count": 17,
     "metadata": {},
     "output_type": "execute_result"
    },
    {
     "data": {
      "image/png": "[encoded data removed]",
      "text/plain": [
       "<Figure size 600x600 with 1 Axes>"
      ]
     },
     "metadata": {},
     "output_type": "display_data"
    }
   ],
   "source": [
    "import matplotlib.pyplot as plt\n",
    "plt.figure(figsize=(6, 6))\n",
    "plt.plot(fpr, tpr, label=f'Roc Curve (AUC : {auc(fpr, tpr)} )')\n",
    "plt.plot([0, 1], [0, 1], color=\"gray\", linestyle=\"--\")\n",
    "plt.legend()"
   ]
  },
  {
   "cell_type": "code",
   "execution_count": 18,
   "id": "ef399717",
   "metadata": {},
   "outputs": [
    {
     "name": "stdout",
     "output_type": "stream",
     "text": [
      "              precision    recall  f1-score   support\n",
      "\n",
      "           0       0.60      1.00      0.75         3\n",
      "           1       1.00      0.50      0.67         4\n",
      "\n",
      "    accuracy                           0.71         7\n",
      "   macro avg       0.80      0.75      0.71         7\n",
      "weighted avg       0.83      0.71      0.70         7\n",
      "\n"
     ]
    }
   ],
   "source": [
    "from sklearn.metrics import classification_report\n",
    "print(classification_report(df['실제값'], df['예측값'])) # support는 데이터 개수"
   ]
  },
  {
   "cell_type": "markdown",
   "id": "bafd3079",
   "metadata": {},
   "source": [
    "## 제출\n",
    "\n",
    "제출을 위해 새로 불러온 `classification result.csv` 데이터에서 혼동 행렬을 계산한 결과를 `result_np`에 저장하세요.\n",
    "- 1차원으로 변환해서 tp, fp, fn, tn 값을 따로 저장하는 게 아닌 **2차원 행렬 형태 그대로 저장하세요**."
   ]
  },
  {
   "cell_type": "code",
   "execution_count": 19,
   "id": "1ec28d2b",
   "metadata": {},
   "outputs": [],
   "source": [
    "df = pd.read_csv('/mnt/elice/dataset/classification result.csv')\n",
    "\n",
    "# TODO: 혼동 행렬을 계산하세요.\n",
    "result_np = confusion_matrix(df['실제값'], df['예측값'])"
   ]
  },
  {
   "cell_type": "markdown",
   "id": "173ffd75",
   "metadata": {},
   "source": [
    "## 채점 수행\n",
    "\n",
    "아래 코드는 채점 수행을 위한 코드입니다.\n",
    "\n",
    "따라서 이를 수정했을시 **채점이 제대로 이루어지지 않습니다.**\n",
    "\n",
    "**주의**: 채점 코드를 실행하기 전에 반드시 코드 파일을 한번 저장하시길 바랍니다."
   ]
  },
  {
   "cell_type": "code",
   "execution_count": 20,
   "id": "19d4a34b",
   "metadata": {},
   "outputs": [
    {
     "name": "stdout",
     "output_type": "stream",
     "text": [
      "send files ['result.npy', 'cds_ai_exercise.ipynb'] for grade...\n",
      "waiting result...\n",
      "waiting result...\n",
      "waiting result...\n",
      "done!\n",
      "\n",
      "Score: 100.000000\n",
      "Duration: 2.329 seconds\n",
      "=== Message ===\n",
      "제출 완료되었습니다.\n"
     ]
    },
    {
     "data": {
      "text/plain": [
       "0"
      ]
     },
     "execution_count": 20,
     "metadata": {},
     "output_type": "execute_result"
    }
   ],
   "source": [
    "import os\n",
    "import numpy as np\n",
    "\n",
    "np.save('result.npy', result_np)\n",
    "\n",
    "os.system('elice_grade result.npy cds_ai_exercise.ipynb')"
   ]
  },
  {
   "cell_type": "code",
   "execution_count": null,
   "id": "76852efe",
   "metadata": {},
   "outputs": [],
   "source": []
  }
 ],
 "metadata": {
  "kernelspec": {
   "display_name": "Python 3 (ipykernel)",
   "language": "python",
   "name": "python3"
  },
  "language_info": {
   "codemirror_mode": {
    "name": "ipython",
    "version": 3
   },
   "file_extension": ".py",
   "mimetype": "text/x-python",
   "name": "python",
   "nbconvert_exporter": "python",
   "pygments_lexer": "ipython3",
   "version": "3.10.10"
  },
  "vscode": {
   "interpreter": {
    "hash": "7f165b7dd02acb5f15d9542284b1c771e139a38d08f007b94e9150fcdff51bba"
   }
  }
 },
 "nbformat": 4,
 "nbformat_minor": 5
}
