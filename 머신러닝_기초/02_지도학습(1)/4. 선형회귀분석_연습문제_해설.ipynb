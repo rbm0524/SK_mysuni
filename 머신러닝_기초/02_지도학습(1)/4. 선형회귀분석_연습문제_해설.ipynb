{
 "cells": [
  {
   "cell_type": "markdown",
   "metadata": {},
   "source": [
    "# 건물 난방 효율 예측"
   ]
  },
  {
   "cell_type": "markdown",
   "metadata": {},
   "source": [
    "# 환경설정"
   ]
  },
  {
   "cell_type": "code",
   "execution_count": 2,
   "metadata": {},
   "outputs": [],
   "source": [
    "import numpy as np\n",
    "import pandas as pd\n",
    "import matplotlib.pyplot as plt\n",
    "import seaborn as sns"
   ]
  },
  {
   "cell_type": "markdown",
   "metadata": {},
   "source": [
    "## 데이터 읽기 및 조회\n",
    " - `/mnt/elice/dataset` 디렉토리에 있는 ENB2012_data.xlsx 파일을 읽어오세요.\n",
    " - 상위 5개 샘플(행) 조회"
   ]
  },
  {
   "cell_type": "code",
   "execution_count": 5,
   "metadata": {},
   "outputs": [
    {
     "data": {
      "text/html": [
       "<div>\n",
       "<style scoped>\n",
       "    .dataframe tbody tr th:only-of-type {\n",
       "        vertical-align: middle;\n",
       "    }\n",
       "\n",
       "    .dataframe tbody tr th {\n",
       "        vertical-align: top;\n",
       "    }\n",
       "\n",
       "    .dataframe thead th {\n",
       "        text-align: right;\n",
       "    }\n",
       "</style>\n",
       "<table border=\"1\" class=\"dataframe\">\n",
       "  <thead>\n",
       "    <tr style=\"text-align: right;\">\n",
       "      <th></th>\n",
       "      <th>X1</th>\n",
       "      <th>X2</th>\n",
       "      <th>X3</th>\n",
       "      <th>X4</th>\n",
       "      <th>X5</th>\n",
       "      <th>X6</th>\n",
       "      <th>X7</th>\n",
       "      <th>X8</th>\n",
       "      <th>Y1</th>\n",
       "      <th>Y2</th>\n",
       "    </tr>\n",
       "  </thead>\n",
       "  <tbody>\n",
       "    <tr>\n",
       "      <th>0</th>\n",
       "      <td>0.98</td>\n",
       "      <td>514.5</td>\n",
       "      <td>294.0</td>\n",
       "      <td>110.25</td>\n",
       "      <td>7.0</td>\n",
       "      <td>2</td>\n",
       "      <td>0.0</td>\n",
       "      <td>0</td>\n",
       "      <td>15.55</td>\n",
       "      <td>21.33</td>\n",
       "    </tr>\n",
       "    <tr>\n",
       "      <th>1</th>\n",
       "      <td>0.98</td>\n",
       "      <td>514.5</td>\n",
       "      <td>294.0</td>\n",
       "      <td>110.25</td>\n",
       "      <td>7.0</td>\n",
       "      <td>3</td>\n",
       "      <td>0.0</td>\n",
       "      <td>0</td>\n",
       "      <td>15.55</td>\n",
       "      <td>21.33</td>\n",
       "    </tr>\n",
       "    <tr>\n",
       "      <th>2</th>\n",
       "      <td>0.98</td>\n",
       "      <td>514.5</td>\n",
       "      <td>294.0</td>\n",
       "      <td>110.25</td>\n",
       "      <td>7.0</td>\n",
       "      <td>4</td>\n",
       "      <td>0.0</td>\n",
       "      <td>0</td>\n",
       "      <td>15.55</td>\n",
       "      <td>21.33</td>\n",
       "    </tr>\n",
       "    <tr>\n",
       "      <th>3</th>\n",
       "      <td>0.98</td>\n",
       "      <td>514.5</td>\n",
       "      <td>294.0</td>\n",
       "      <td>110.25</td>\n",
       "      <td>7.0</td>\n",
       "      <td>5</td>\n",
       "      <td>0.0</td>\n",
       "      <td>0</td>\n",
       "      <td>15.55</td>\n",
       "      <td>21.33</td>\n",
       "    </tr>\n",
       "    <tr>\n",
       "      <th>4</th>\n",
       "      <td>0.90</td>\n",
       "      <td>563.5</td>\n",
       "      <td>318.5</td>\n",
       "      <td>122.50</td>\n",
       "      <td>7.0</td>\n",
       "      <td>2</td>\n",
       "      <td>0.0</td>\n",
       "      <td>0</td>\n",
       "      <td>20.84</td>\n",
       "      <td>28.28</td>\n",
       "    </tr>\n",
       "  </tbody>\n",
       "</table>\n",
       "</div>"
      ],
      "text/plain": [
       "     X1     X2     X3      X4   X5  X6   X7  X8     Y1     Y2\n",
       "0  0.98  514.5  294.0  110.25  7.0   2  0.0   0  15.55  21.33\n",
       "1  0.98  514.5  294.0  110.25  7.0   3  0.0   0  15.55  21.33\n",
       "2  0.98  514.5  294.0  110.25  7.0   4  0.0   0  15.55  21.33\n",
       "3  0.98  514.5  294.0  110.25  7.0   5  0.0   0  15.55  21.33\n",
       "4  0.90  563.5  318.5  122.50  7.0   2  0.0   0  20.84  28.28"
      ]
     },
     "execution_count": 5,
     "metadata": {},
     "output_type": "execute_result"
    }
   ],
   "source": [
    "# 코드를 입력해 주세요\n",
    "df = pd.read_excel('/mnt/elice/dataset/ENB2012_data.xlsx')\n",
    "df.head()"
   ]
  },
  {
   "cell_type": "markdown",
   "metadata": {},
   "source": [
    " - 샘플과 특성 개수 확인 (shape)"
   ]
  },
  {
   "cell_type": "code",
   "execution_count": 6,
   "metadata": {},
   "outputs": [
    {
     "data": {
      "text/plain": [
       "(768, 10)"
      ]
     },
     "execution_count": 6,
     "metadata": {},
     "output_type": "execute_result"
    }
   ],
   "source": [
    "# 코드를 입력해 주세요\n",
    "df.shape"
   ]
  },
  {
   "cell_type": "markdown",
   "metadata": {},
   "source": [
    " - 아래 열 이름을 참고하여 df의 열 이름을 변경하세요.\n",
    " - ['relative_compactness', 'surface_area', 'wall_area', 'roof_area', 'overall_height', 'orientation', 'glazing_area', 'glazing_area_distribution', 'heating_load', 'cooling_load']"
   ]
  },
  {
   "cell_type": "code",
   "execution_count": 7,
   "metadata": {},
   "outputs": [
    {
     "data": {
      "text/html": [
       "<div>\n",
       "<style scoped>\n",
       "    .dataframe tbody tr th:only-of-type {\n",
       "        vertical-align: middle;\n",
       "    }\n",
       "\n",
       "    .dataframe tbody tr th {\n",
       "        vertical-align: top;\n",
       "    }\n",
       "\n",
       "    .dataframe thead th {\n",
       "        text-align: right;\n",
       "    }\n",
       "</style>\n",
       "<table border=\"1\" class=\"dataframe\">\n",
       "  <thead>\n",
       "    <tr style=\"text-align: right;\">\n",
       "      <th></th>\n",
       "      <th>relative_compactness</th>\n",
       "      <th>surface_area</th>\n",
       "      <th>wall_area</th>\n",
       "      <th>roof_area</th>\n",
       "      <th>overall_height</th>\n",
       "      <th>orientation</th>\n",
       "      <th>glazing_area</th>\n",
       "      <th>glazing_area_distribution</th>\n",
       "      <th>heating_load</th>\n",
       "      <th>cooling_load</th>\n",
       "    </tr>\n",
       "  </thead>\n",
       "  <tbody>\n",
       "    <tr>\n",
       "      <th>0</th>\n",
       "      <td>0.98</td>\n",
       "      <td>514.5</td>\n",
       "      <td>294.0</td>\n",
       "      <td>110.25</td>\n",
       "      <td>7.0</td>\n",
       "      <td>2</td>\n",
       "      <td>0.0</td>\n",
       "      <td>0</td>\n",
       "      <td>15.55</td>\n",
       "      <td>21.33</td>\n",
       "    </tr>\n",
       "    <tr>\n",
       "      <th>1</th>\n",
       "      <td>0.98</td>\n",
       "      <td>514.5</td>\n",
       "      <td>294.0</td>\n",
       "      <td>110.25</td>\n",
       "      <td>7.0</td>\n",
       "      <td>3</td>\n",
       "      <td>0.0</td>\n",
       "      <td>0</td>\n",
       "      <td>15.55</td>\n",
       "      <td>21.33</td>\n",
       "    </tr>\n",
       "    <tr>\n",
       "      <th>2</th>\n",
       "      <td>0.98</td>\n",
       "      <td>514.5</td>\n",
       "      <td>294.0</td>\n",
       "      <td>110.25</td>\n",
       "      <td>7.0</td>\n",
       "      <td>4</td>\n",
       "      <td>0.0</td>\n",
       "      <td>0</td>\n",
       "      <td>15.55</td>\n",
       "      <td>21.33</td>\n",
       "    </tr>\n",
       "    <tr>\n",
       "      <th>3</th>\n",
       "      <td>0.98</td>\n",
       "      <td>514.5</td>\n",
       "      <td>294.0</td>\n",
       "      <td>110.25</td>\n",
       "      <td>7.0</td>\n",
       "      <td>5</td>\n",
       "      <td>0.0</td>\n",
       "      <td>0</td>\n",
       "      <td>15.55</td>\n",
       "      <td>21.33</td>\n",
       "    </tr>\n",
       "    <tr>\n",
       "      <th>4</th>\n",
       "      <td>0.90</td>\n",
       "      <td>563.5</td>\n",
       "      <td>318.5</td>\n",
       "      <td>122.50</td>\n",
       "      <td>7.0</td>\n",
       "      <td>2</td>\n",
       "      <td>0.0</td>\n",
       "      <td>0</td>\n",
       "      <td>20.84</td>\n",
       "      <td>28.28</td>\n",
       "    </tr>\n",
       "    <tr>\n",
       "      <th>...</th>\n",
       "      <td>...</td>\n",
       "      <td>...</td>\n",
       "      <td>...</td>\n",
       "      <td>...</td>\n",
       "      <td>...</td>\n",
       "      <td>...</td>\n",
       "      <td>...</td>\n",
       "      <td>...</td>\n",
       "      <td>...</td>\n",
       "      <td>...</td>\n",
       "    </tr>\n",
       "    <tr>\n",
       "      <th>763</th>\n",
       "      <td>0.64</td>\n",
       "      <td>784.0</td>\n",
       "      <td>343.0</td>\n",
       "      <td>220.50</td>\n",
       "      <td>3.5</td>\n",
       "      <td>5</td>\n",
       "      <td>0.4</td>\n",
       "      <td>5</td>\n",
       "      <td>17.88</td>\n",
       "      <td>21.40</td>\n",
       "    </tr>\n",
       "    <tr>\n",
       "      <th>764</th>\n",
       "      <td>0.62</td>\n",
       "      <td>808.5</td>\n",
       "      <td>367.5</td>\n",
       "      <td>220.50</td>\n",
       "      <td>3.5</td>\n",
       "      <td>2</td>\n",
       "      <td>0.4</td>\n",
       "      <td>5</td>\n",
       "      <td>16.54</td>\n",
       "      <td>16.88</td>\n",
       "    </tr>\n",
       "    <tr>\n",
       "      <th>765</th>\n",
       "      <td>0.62</td>\n",
       "      <td>808.5</td>\n",
       "      <td>367.5</td>\n",
       "      <td>220.50</td>\n",
       "      <td>3.5</td>\n",
       "      <td>3</td>\n",
       "      <td>0.4</td>\n",
       "      <td>5</td>\n",
       "      <td>16.44</td>\n",
       "      <td>17.11</td>\n",
       "    </tr>\n",
       "    <tr>\n",
       "      <th>766</th>\n",
       "      <td>0.62</td>\n",
       "      <td>808.5</td>\n",
       "      <td>367.5</td>\n",
       "      <td>220.50</td>\n",
       "      <td>3.5</td>\n",
       "      <td>4</td>\n",
       "      <td>0.4</td>\n",
       "      <td>5</td>\n",
       "      <td>16.48</td>\n",
       "      <td>16.61</td>\n",
       "    </tr>\n",
       "    <tr>\n",
       "      <th>767</th>\n",
       "      <td>0.62</td>\n",
       "      <td>808.5</td>\n",
       "      <td>367.5</td>\n",
       "      <td>220.50</td>\n",
       "      <td>3.5</td>\n",
       "      <td>5</td>\n",
       "      <td>0.4</td>\n",
       "      <td>5</td>\n",
       "      <td>16.64</td>\n",
       "      <td>16.03</td>\n",
       "    </tr>\n",
       "  </tbody>\n",
       "</table>\n",
       "<p>768 rows × 10 columns</p>\n",
       "</div>"
      ],
      "text/plain": [
       "     relative_compactness  surface_area  wall_area  roof_area  overall_height  \\\n",
       "0                    0.98         514.5      294.0     110.25             7.0   \n",
       "1                    0.98         514.5      294.0     110.25             7.0   \n",
       "2                    0.98         514.5      294.0     110.25             7.0   \n",
       "3                    0.98         514.5      294.0     110.25             7.0   \n",
       "4                    0.90         563.5      318.5     122.50             7.0   \n",
       "..                    ...           ...        ...        ...             ...   \n",
       "763                  0.64         784.0      343.0     220.50             3.5   \n",
       "764                  0.62         808.5      367.5     220.50             3.5   \n",
       "765                  0.62         808.5      367.5     220.50             3.5   \n",
       "766                  0.62         808.5      367.5     220.50             3.5   \n",
       "767                  0.62         808.5      367.5     220.50             3.5   \n",
       "\n",
       "     orientation  glazing_area  glazing_area_distribution  heating_load  \\\n",
       "0              2           0.0                          0         15.55   \n",
       "1              3           0.0                          0         15.55   \n",
       "2              4           0.0                          0         15.55   \n",
       "3              5           0.0                          0         15.55   \n",
       "4              2           0.0                          0         20.84   \n",
       "..           ...           ...                        ...           ...   \n",
       "763            5           0.4                          5         17.88   \n",
       "764            2           0.4                          5         16.54   \n",
       "765            3           0.4                          5         16.44   \n",
       "766            4           0.4                          5         16.48   \n",
       "767            5           0.4                          5         16.64   \n",
       "\n",
       "     cooling_load  \n",
       "0           21.33  \n",
       "1           21.33  \n",
       "2           21.33  \n",
       "3           21.33  \n",
       "4           28.28  \n",
       "..            ...  \n",
       "763         21.40  \n",
       "764         16.88  \n",
       "765         17.11  \n",
       "766         16.61  \n",
       "767         16.03  \n",
       "\n",
       "[768 rows x 10 columns]"
      ]
     },
     "execution_count": 7,
     "metadata": {},
     "output_type": "execute_result"
    }
   ],
   "source": [
    "# 코드를 입력해 주세요\n",
    "df.columns = ['relative_compactness', 'surface_area', 'wall_area', 'roof_area', 'overall_height',\n",
    "                'orientation', 'glazing_area', 'glazing_area_distribution', 'heating_load', 'cooling_load']\n",
    "df"
   ]
  },
  {
   "cell_type": "markdown",
   "metadata": {},
   "source": [
    " - 정보를 조회하세요"
   ]
  },
  {
   "cell_type": "code",
   "execution_count": 8,
   "metadata": {},
   "outputs": [
    {
     "name": "stdout",
     "output_type": "stream",
     "text": [
      "<class 'pandas.core.frame.DataFrame'>\n",
      "RangeIndex: 768 entries, 0 to 767\n",
      "Data columns (total 10 columns):\n",
      " #   Column                     Non-Null Count  Dtype  \n",
      "---  ------                     --------------  -----  \n",
      " 0   relative_compactness       768 non-null    float64\n",
      " 1   surface_area               768 non-null    float64\n",
      " 2   wall_area                  768 non-null    float64\n",
      " 3   roof_area                  768 non-null    float64\n",
      " 4   overall_height             768 non-null    float64\n",
      " 5   orientation                768 non-null    int64  \n",
      " 6   glazing_area               768 non-null    float64\n",
      " 7   glazing_area_distribution  768 non-null    int64  \n",
      " 8   heating_load               768 non-null    float64\n",
      " 9   cooling_load               768 non-null    float64\n",
      "dtypes: float64(8), int64(2)\n",
      "memory usage: 60.1 KB\n"
     ]
    }
   ],
   "source": [
    "# 코드를 입력해 주세요\n",
    "df.info()"
   ]
  },
  {
   "cell_type": "markdown",
   "metadata": {},
   "source": [
    "## 결측치 처리\n",
    " - 결측치를 조회하세요."
   ]
  },
  {
   "cell_type": "code",
   "execution_count": 9,
   "metadata": {},
   "outputs": [
    {
     "data": {
      "text/plain": [
       "relative_compactness         0\n",
       "surface_area                 0\n",
       "wall_area                    0\n",
       "roof_area                    0\n",
       "overall_height               0\n",
       "orientation                  0\n",
       "glazing_area                 0\n",
       "glazing_area_distribution    0\n",
       "heating_load                 0\n",
       "cooling_load                 0\n",
       "dtype: int64"
      ]
     },
     "execution_count": 9,
     "metadata": {},
     "output_type": "execute_result"
    }
   ],
   "source": [
    "# 코드를 입력해 주세요\n",
    "df.isna().sum()"
   ]
  },
  {
   "cell_type": "markdown",
   "metadata": {},
   "source": [
    "## 데이터 분석\n",
    " - df.hist()를 이용하여 히스토그램을 출력하세요.\n",
    " - hist의 옵션으로 figsize=(15,15), bins=5을 적용하세요."
   ]
  },
  {
   "cell_type": "code",
   "execution_count": 10,
   "metadata": {},
   "outputs": [
    {
     "data": {
      "image/png": "[encoded data removed]",
      "text/plain": [
       "<Figure size 1080x1080 with 12 Axes>"
      ]
     },
     "metadata": {
      "needs_background": "light"
     },
     "output_type": "display_data"
    }
   ],
   "source": [
    "# 코드를 입력해 주세요\n",
    "df.hist(figsize=(15, 15), bins=5) \n",
    "plt.show()"
   ]
  },
  {
   "cell_type": "markdown",
   "metadata": {},
   "source": [
    " - 각 열의 이상치 존재 여부를 확인하기 위해 boxplot를 그려보세요."
   ]
  },
  {
   "cell_type": "code",
   "execution_count": 11,
   "metadata": {},
   "outputs": [
    {
     "data": {
      "image/png": "[encoded data removed]",
      "text/plain": [
       "<Figure size 1152x864 with 1 Axes>"
      ]
     },
     "metadata": {
      "needs_background": "light"
     },
     "output_type": "display_data"
    }
   ],
   "source": [
    "# 코드를 입력해 주세요\n",
    "df.plot(kind='box', figsize=(16,12))\n",
    "plt.show()"
   ]
  },
  {
   "cell_type": "code",
   "execution_count": 12,
   "metadata": {},
   "outputs": [
    {
     "data": {
      "image/png": "[encoded data removed]",
      "text/plain": [
       "<Figure size 1080x720 with 12 Axes>"
      ]
     },
     "metadata": {
      "needs_background": "light"
     },
     "output_type": "display_data"
    }
   ],
   "source": [
    "df.plot(kind='box', figsize=(15,10), subplots=True, layout=(3, 4))\n",
    "plt.show()"
   ]
  },
  {
   "cell_type": "markdown",
   "metadata": {},
   "source": [
    " - 각 열 별 상관 관계를 출력하세요.\n",
    "   - 반올림 함수를 이용하여 소수점 셋째자리까지만 출력하세요."
   ]
  },
  {
   "cell_type": "code",
   "execution_count": 14,
   "metadata": {},
   "outputs": [
    {
     "data": {
      "text/html": [
       "<div>\n",
       "<style scoped>\n",
       "    .dataframe tbody tr th:only-of-type {\n",
       "        vertical-align: middle;\n",
       "    }\n",
       "\n",
       "    .dataframe tbody tr th {\n",
       "        vertical-align: top;\n",
       "    }\n",
       "\n",
       "    .dataframe thead th {\n",
       "        text-align: right;\n",
       "    }\n",
       "</style>\n",
       "<table border=\"1\" class=\"dataframe\">\n",
       "  <thead>\n",
       "    <tr style=\"text-align: right;\">\n",
       "      <th></th>\n",
       "      <th>relative_compactness</th>\n",
       "      <th>surface_area</th>\n",
       "      <th>wall_area</th>\n",
       "      <th>roof_area</th>\n",
       "      <th>overall_height</th>\n",
       "      <th>orientation</th>\n",
       "      <th>glazing_area</th>\n",
       "      <th>glazing_area_distribution</th>\n",
       "      <th>heating_load</th>\n",
       "      <th>cooling_load</th>\n",
       "    </tr>\n",
       "  </thead>\n",
       "  <tbody>\n",
       "    <tr>\n",
       "      <th>relative_compactness</th>\n",
       "      <td>1.000</td>\n",
       "      <td>-0.992</td>\n",
       "      <td>-0.204</td>\n",
       "      <td>-0.869</td>\n",
       "      <td>0.828</td>\n",
       "      <td>0.000</td>\n",
       "      <td>0.000</td>\n",
       "      <td>0.000</td>\n",
       "      <td>0.622</td>\n",
       "      <td>0.634</td>\n",
       "    </tr>\n",
       "    <tr>\n",
       "      <th>surface_area</th>\n",
       "      <td>-0.992</td>\n",
       "      <td>1.000</td>\n",
       "      <td>0.196</td>\n",
       "      <td>0.881</td>\n",
       "      <td>-0.858</td>\n",
       "      <td>0.000</td>\n",
       "      <td>0.000</td>\n",
       "      <td>-0.000</td>\n",
       "      <td>-0.658</td>\n",
       "      <td>-0.673</td>\n",
       "    </tr>\n",
       "    <tr>\n",
       "      <th>wall_area</th>\n",
       "      <td>-0.204</td>\n",
       "      <td>0.196</td>\n",
       "      <td>1.000</td>\n",
       "      <td>-0.292</td>\n",
       "      <td>0.281</td>\n",
       "      <td>0.000</td>\n",
       "      <td>-0.000</td>\n",
       "      <td>0.000</td>\n",
       "      <td>0.456</td>\n",
       "      <td>0.427</td>\n",
       "    </tr>\n",
       "    <tr>\n",
       "      <th>roof_area</th>\n",
       "      <td>-0.869</td>\n",
       "      <td>0.881</td>\n",
       "      <td>-0.292</td>\n",
       "      <td>1.000</td>\n",
       "      <td>-0.973</td>\n",
       "      <td>0.000</td>\n",
       "      <td>-0.000</td>\n",
       "      <td>-0.000</td>\n",
       "      <td>-0.862</td>\n",
       "      <td>-0.863</td>\n",
       "    </tr>\n",
       "    <tr>\n",
       "      <th>overall_height</th>\n",
       "      <td>0.828</td>\n",
       "      <td>-0.858</td>\n",
       "      <td>0.281</td>\n",
       "      <td>-0.973</td>\n",
       "      <td>1.000</td>\n",
       "      <td>0.000</td>\n",
       "      <td>0.000</td>\n",
       "      <td>0.000</td>\n",
       "      <td>0.889</td>\n",
       "      <td>0.896</td>\n",
       "    </tr>\n",
       "    <tr>\n",
       "      <th>orientation</th>\n",
       "      <td>0.000</td>\n",
       "      <td>0.000</td>\n",
       "      <td>0.000</td>\n",
       "      <td>0.000</td>\n",
       "      <td>0.000</td>\n",
       "      <td>1.000</td>\n",
       "      <td>0.000</td>\n",
       "      <td>0.000</td>\n",
       "      <td>-0.003</td>\n",
       "      <td>0.014</td>\n",
       "    </tr>\n",
       "    <tr>\n",
       "      <th>glazing_area</th>\n",
       "      <td>0.000</td>\n",
       "      <td>0.000</td>\n",
       "      <td>-0.000</td>\n",
       "      <td>-0.000</td>\n",
       "      <td>0.000</td>\n",
       "      <td>0.000</td>\n",
       "      <td>1.000</td>\n",
       "      <td>0.213</td>\n",
       "      <td>0.270</td>\n",
       "      <td>0.208</td>\n",
       "    </tr>\n",
       "    <tr>\n",
       "      <th>glazing_area_distribution</th>\n",
       "      <td>0.000</td>\n",
       "      <td>-0.000</td>\n",
       "      <td>0.000</td>\n",
       "      <td>-0.000</td>\n",
       "      <td>0.000</td>\n",
       "      <td>0.000</td>\n",
       "      <td>0.213</td>\n",
       "      <td>1.000</td>\n",
       "      <td>0.087</td>\n",
       "      <td>0.051</td>\n",
       "    </tr>\n",
       "    <tr>\n",
       "      <th>heating_load</th>\n",
       "      <td>0.622</td>\n",
       "      <td>-0.658</td>\n",
       "      <td>0.456</td>\n",
       "      <td>-0.862</td>\n",
       "      <td>0.889</td>\n",
       "      <td>-0.003</td>\n",
       "      <td>0.270</td>\n",
       "      <td>0.087</td>\n",
       "      <td>1.000</td>\n",
       "      <td>0.976</td>\n",
       "    </tr>\n",
       "    <tr>\n",
       "      <th>cooling_load</th>\n",
       "      <td>0.634</td>\n",
       "      <td>-0.673</td>\n",
       "      <td>0.427</td>\n",
       "      <td>-0.863</td>\n",
       "      <td>0.896</td>\n",
       "      <td>0.014</td>\n",
       "      <td>0.208</td>\n",
       "      <td>0.051</td>\n",
       "      <td>0.976</td>\n",
       "      <td>1.000</td>\n",
       "    </tr>\n",
       "  </tbody>\n",
       "</table>\n",
       "</div>"
      ],
      "text/plain": [
       "                           relative_compactness  surface_area  wall_area  \\\n",
       "relative_compactness                      1.000        -0.992     -0.204   \n",
       "surface_area                             -0.992         1.000      0.196   \n",
       "wall_area                                -0.204         0.196      1.000   \n",
       "roof_area                                -0.869         0.881     -0.292   \n",
       "overall_height                            0.828        -0.858      0.281   \n",
       "orientation                               0.000         0.000      0.000   \n",
       "glazing_area                              0.000         0.000     -0.000   \n",
       "glazing_area_distribution                 0.000        -0.000      0.000   \n",
       "heating_load                              0.622        -0.658      0.456   \n",
       "cooling_load                              0.634        -0.673      0.427   \n",
       "\n",
       "                           roof_area  overall_height  orientation  \\\n",
       "relative_compactness          -0.869           0.828        0.000   \n",
       "surface_area                   0.881          -0.858        0.000   \n",
       "wall_area                     -0.292           0.281        0.000   \n",
       "roof_area                      1.000          -0.973        0.000   \n",
       "overall_height                -0.973           1.000        0.000   \n",
       "orientation                    0.000           0.000        1.000   \n",
       "glazing_area                  -0.000           0.000        0.000   \n",
       "glazing_area_distribution     -0.000           0.000        0.000   \n",
       "heating_load                  -0.862           0.889       -0.003   \n",
       "cooling_load                  -0.863           0.896        0.014   \n",
       "\n",
       "                           glazing_area  glazing_area_distribution  \\\n",
       "relative_compactness              0.000                      0.000   \n",
       "surface_area                      0.000                     -0.000   \n",
       "wall_area                        -0.000                      0.000   \n",
       "roof_area                        -0.000                     -0.000   \n",
       "overall_height                    0.000                      0.000   \n",
       "orientation                       0.000                      0.000   \n",
       "glazing_area                      1.000                      0.213   \n",
       "glazing_area_distribution         0.213                      1.000   \n",
       "heating_load                      0.270                      0.087   \n",
       "cooling_load                      0.208                      0.051   \n",
       "\n",
       "                           heating_load  cooling_load  \n",
       "relative_compactness              0.622         0.634  \n",
       "surface_area                     -0.658        -0.673  \n",
       "wall_area                         0.456         0.427  \n",
       "roof_area                        -0.862        -0.863  \n",
       "overall_height                    0.889         0.896  \n",
       "orientation                      -0.003         0.014  \n",
       "glazing_area                      0.270         0.208  \n",
       "glazing_area_distribution         0.087         0.051  \n",
       "heating_load                      1.000         0.976  \n",
       "cooling_load                      0.976         1.000  "
      ]
     },
     "execution_count": 14,
     "metadata": {},
     "output_type": "execute_result"
    }
   ],
   "source": [
    "# 코드를 입력해 주세요\n",
    "df.corr().round(3)"
   ]
  },
  {
   "cell_type": "markdown",
   "metadata": {},
   "source": [
    " - 각 열 별 상관 관계 값을 히트맵으로 시각화하세요.\n",
    " - 컬러맵은 Greens, 값은 소수점 둘째자리까지 출력하세요."
   ]
  },
  {
   "cell_type": "code",
   "execution_count": 15,
   "metadata": {},
   "outputs": [
    {
     "data": {
      "image/png": "[encoded data removed]",
      "text/plain": [
       "<Figure size 720x720 with 2 Axes>"
      ]
     },
     "metadata": {
      "needs_background": "light"
     },
     "output_type": "display_data"
    }
   ],
   "source": [
    "# 코드를 입력해 주세요\n",
    "# 위에서 계산한 컬럼별 상관 관계를 heatmap으로 시각화하세요.\n",
    "plt.figure(figsize=(10,10))\n",
    "sns.heatmap(df.corr(), cmap='Greens', annot=True, fmt='.2f')\n",
    "plt.show()"
   ]
  },
  {
   "cell_type": "markdown",
   "metadata": {},
   "source": [
    "## 특성 공학\n",
    " - 종속 변수 headting load와 cooling load를 더해서 load 열을 생성하세요"
   ]
  },
  {
   "cell_type": "code",
   "execution_count": 16,
   "metadata": {},
   "outputs": [
    {
     "data": {
      "text/html": [
       "<div>\n",
       "<style scoped>\n",
       "    .dataframe tbody tr th:only-of-type {\n",
       "        vertical-align: middle;\n",
       "    }\n",
       "\n",
       "    .dataframe tbody tr th {\n",
       "        vertical-align: top;\n",
       "    }\n",
       "\n",
       "    .dataframe thead th {\n",
       "        text-align: right;\n",
       "    }\n",
       "</style>\n",
       "<table border=\"1\" class=\"dataframe\">\n",
       "  <thead>\n",
       "    <tr style=\"text-align: right;\">\n",
       "      <th></th>\n",
       "      <th>relative_compactness</th>\n",
       "      <th>surface_area</th>\n",
       "      <th>wall_area</th>\n",
       "      <th>roof_area</th>\n",
       "      <th>overall_height</th>\n",
       "      <th>orientation</th>\n",
       "      <th>glazing_area</th>\n",
       "      <th>glazing_area_distribution</th>\n",
       "      <th>heating_load</th>\n",
       "      <th>cooling_load</th>\n",
       "      <th>load</th>\n",
       "    </tr>\n",
       "  </thead>\n",
       "  <tbody>\n",
       "    <tr>\n",
       "      <th>0</th>\n",
       "      <td>0.98</td>\n",
       "      <td>514.5</td>\n",
       "      <td>294.0</td>\n",
       "      <td>110.25</td>\n",
       "      <td>7.0</td>\n",
       "      <td>2</td>\n",
       "      <td>0.0</td>\n",
       "      <td>0</td>\n",
       "      <td>15.55</td>\n",
       "      <td>21.33</td>\n",
       "      <td>36.88</td>\n",
       "    </tr>\n",
       "    <tr>\n",
       "      <th>1</th>\n",
       "      <td>0.98</td>\n",
       "      <td>514.5</td>\n",
       "      <td>294.0</td>\n",
       "      <td>110.25</td>\n",
       "      <td>7.0</td>\n",
       "      <td>3</td>\n",
       "      <td>0.0</td>\n",
       "      <td>0</td>\n",
       "      <td>15.55</td>\n",
       "      <td>21.33</td>\n",
       "      <td>36.88</td>\n",
       "    </tr>\n",
       "    <tr>\n",
       "      <th>2</th>\n",
       "      <td>0.98</td>\n",
       "      <td>514.5</td>\n",
       "      <td>294.0</td>\n",
       "      <td>110.25</td>\n",
       "      <td>7.0</td>\n",
       "      <td>4</td>\n",
       "      <td>0.0</td>\n",
       "      <td>0</td>\n",
       "      <td>15.55</td>\n",
       "      <td>21.33</td>\n",
       "      <td>36.88</td>\n",
       "    </tr>\n",
       "    <tr>\n",
       "      <th>3</th>\n",
       "      <td>0.98</td>\n",
       "      <td>514.5</td>\n",
       "      <td>294.0</td>\n",
       "      <td>110.25</td>\n",
       "      <td>7.0</td>\n",
       "      <td>5</td>\n",
       "      <td>0.0</td>\n",
       "      <td>0</td>\n",
       "      <td>15.55</td>\n",
       "      <td>21.33</td>\n",
       "      <td>36.88</td>\n",
       "    </tr>\n",
       "    <tr>\n",
       "      <th>4</th>\n",
       "      <td>0.90</td>\n",
       "      <td>563.5</td>\n",
       "      <td>318.5</td>\n",
       "      <td>122.50</td>\n",
       "      <td>7.0</td>\n",
       "      <td>2</td>\n",
       "      <td>0.0</td>\n",
       "      <td>0</td>\n",
       "      <td>20.84</td>\n",
       "      <td>28.28</td>\n",
       "      <td>49.12</td>\n",
       "    </tr>\n",
       "    <tr>\n",
       "      <th>...</th>\n",
       "      <td>...</td>\n",
       "      <td>...</td>\n",
       "      <td>...</td>\n",
       "      <td>...</td>\n",
       "      <td>...</td>\n",
       "      <td>...</td>\n",
       "      <td>...</td>\n",
       "      <td>...</td>\n",
       "      <td>...</td>\n",
       "      <td>...</td>\n",
       "      <td>...</td>\n",
       "    </tr>\n",
       "    <tr>\n",
       "      <th>763</th>\n",
       "      <td>0.64</td>\n",
       "      <td>784.0</td>\n",
       "      <td>343.0</td>\n",
       "      <td>220.50</td>\n",
       "      <td>3.5</td>\n",
       "      <td>5</td>\n",
       "      <td>0.4</td>\n",
       "      <td>5</td>\n",
       "      <td>17.88</td>\n",
       "      <td>21.40</td>\n",
       "      <td>39.28</td>\n",
       "    </tr>\n",
       "    <tr>\n",
       "      <th>764</th>\n",
       "      <td>0.62</td>\n",
       "      <td>808.5</td>\n",
       "      <td>367.5</td>\n",
       "      <td>220.50</td>\n",
       "      <td>3.5</td>\n",
       "      <td>2</td>\n",
       "      <td>0.4</td>\n",
       "      <td>5</td>\n",
       "      <td>16.54</td>\n",
       "      <td>16.88</td>\n",
       "      <td>33.42</td>\n",
       "    </tr>\n",
       "    <tr>\n",
       "      <th>765</th>\n",
       "      <td>0.62</td>\n",
       "      <td>808.5</td>\n",
       "      <td>367.5</td>\n",
       "      <td>220.50</td>\n",
       "      <td>3.5</td>\n",
       "      <td>3</td>\n",
       "      <td>0.4</td>\n",
       "      <td>5</td>\n",
       "      <td>16.44</td>\n",
       "      <td>17.11</td>\n",
       "      <td>33.55</td>\n",
       "    </tr>\n",
       "    <tr>\n",
       "      <th>766</th>\n",
       "      <td>0.62</td>\n",
       "      <td>808.5</td>\n",
       "      <td>367.5</td>\n",
       "      <td>220.50</td>\n",
       "      <td>3.5</td>\n",
       "      <td>4</td>\n",
       "      <td>0.4</td>\n",
       "      <td>5</td>\n",
       "      <td>16.48</td>\n",
       "      <td>16.61</td>\n",
       "      <td>33.09</td>\n",
       "    </tr>\n",
       "    <tr>\n",
       "      <th>767</th>\n",
       "      <td>0.62</td>\n",
       "      <td>808.5</td>\n",
       "      <td>367.5</td>\n",
       "      <td>220.50</td>\n",
       "      <td>3.5</td>\n",
       "      <td>5</td>\n",
       "      <td>0.4</td>\n",
       "      <td>5</td>\n",
       "      <td>16.64</td>\n",
       "      <td>16.03</td>\n",
       "      <td>32.67</td>\n",
       "    </tr>\n",
       "  </tbody>\n",
       "</table>\n",
       "<p>768 rows × 11 columns</p>\n",
       "</div>"
      ],
      "text/plain": [
       "     relative_compactness  surface_area  wall_area  roof_area  overall_height  \\\n",
       "0                    0.98         514.5      294.0     110.25             7.0   \n",
       "1                    0.98         514.5      294.0     110.25             7.0   \n",
       "2                    0.98         514.5      294.0     110.25             7.0   \n",
       "3                    0.98         514.5      294.0     110.25             7.0   \n",
       "4                    0.90         563.5      318.5     122.50             7.0   \n",
       "..                    ...           ...        ...        ...             ...   \n",
       "763                  0.64         784.0      343.0     220.50             3.5   \n",
       "764                  0.62         808.5      367.5     220.50             3.5   \n",
       "765                  0.62         808.5      367.5     220.50             3.5   \n",
       "766                  0.62         808.5      367.5     220.50             3.5   \n",
       "767                  0.62         808.5      367.5     220.50             3.5   \n",
       "\n",
       "     orientation  glazing_area  glazing_area_distribution  heating_load  \\\n",
       "0              2           0.0                          0         15.55   \n",
       "1              3           0.0                          0         15.55   \n",
       "2              4           0.0                          0         15.55   \n",
       "3              5           0.0                          0         15.55   \n",
       "4              2           0.0                          0         20.84   \n",
       "..           ...           ...                        ...           ...   \n",
       "763            5           0.4                          5         17.88   \n",
       "764            2           0.4                          5         16.54   \n",
       "765            3           0.4                          5         16.44   \n",
       "766            4           0.4                          5         16.48   \n",
       "767            5           0.4                          5         16.64   \n",
       "\n",
       "     cooling_load   load  \n",
       "0           21.33  36.88  \n",
       "1           21.33  36.88  \n",
       "2           21.33  36.88  \n",
       "3           21.33  36.88  \n",
       "4           28.28  49.12  \n",
       "..            ...    ...  \n",
       "763         21.40  39.28  \n",
       "764         16.88  33.42  \n",
       "765         17.11  33.55  \n",
       "766         16.61  33.09  \n",
       "767         16.03  32.67  \n",
       "\n",
       "[768 rows x 11 columns]"
      ]
     },
     "execution_count": 16,
     "metadata": {},
     "output_type": "execute_result"
    }
   ],
   "source": [
    "# 코드를 입력해 주세요\n",
    "df['load'] = df['heating_load'] + df['cooling_load']\n",
    "df"
   ]
  },
  {
   "cell_type": "markdown",
   "metadata": {},
   "source": [
    "#### 분산(표준편차)이 0인 열이 있는지 확인하세요."
   ]
  },
  {
   "cell_type": "code",
   "execution_count": 17,
   "metadata": {},
   "outputs": [
    {
     "data": {
      "text/plain": [
       "relative_compactness            0.011189\n",
       "surface_area                 7759.163842\n",
       "wall_area                    1903.269883\n",
       "roof_area                    2039.963060\n",
       "overall_height                  3.066493\n",
       "orientation                     1.251630\n",
       "glazing_area                    0.017748\n",
       "glazing_area_distribution       2.405476\n",
       "heating_load                  101.812216\n",
       "cooling_load                   90.502983\n",
       "load                          379.663465\n",
       "dtype: float64"
      ]
     },
     "execution_count": 17,
     "metadata": {},
     "output_type": "execute_result"
    }
   ],
   "source": [
    "# 코드를 입력해 주세요\n",
    "df.var()"
   ]
  },
  {
   "cell_type": "markdown",
   "metadata": {},
   "source": [
    "#### 상관관계가 0.97 이상인 특성들이 있는지 확인하세요.\n",
    " - relative_compactness와 surface_area의 열 별 상관관계를 소수점 셋째자리까지 출력하세요."
   ]
  },
  {
   "cell_type": "code",
   "execution_count": 18,
   "metadata": {},
   "outputs": [
    {
     "data": {
      "text/html": [
       "<div>\n",
       "<style scoped>\n",
       "    .dataframe tbody tr th:only-of-type {\n",
       "        vertical-align: middle;\n",
       "    }\n",
       "\n",
       "    .dataframe tbody tr th {\n",
       "        vertical-align: top;\n",
       "    }\n",
       "\n",
       "    .dataframe thead th {\n",
       "        text-align: right;\n",
       "    }\n",
       "</style>\n",
       "<table border=\"1\" class=\"dataframe\">\n",
       "  <thead>\n",
       "    <tr style=\"text-align: right;\">\n",
       "      <th></th>\n",
       "      <th>relative_compactness</th>\n",
       "      <th>surface_area</th>\n",
       "    </tr>\n",
       "  </thead>\n",
       "  <tbody>\n",
       "    <tr>\n",
       "      <th>relative_compactness</th>\n",
       "      <td>1.000</td>\n",
       "      <td>-0.992</td>\n",
       "    </tr>\n",
       "    <tr>\n",
       "      <th>surface_area</th>\n",
       "      <td>-0.992</td>\n",
       "      <td>1.000</td>\n",
       "    </tr>\n",
       "    <tr>\n",
       "      <th>wall_area</th>\n",
       "      <td>-0.204</td>\n",
       "      <td>0.196</td>\n",
       "    </tr>\n",
       "    <tr>\n",
       "      <th>roof_area</th>\n",
       "      <td>-0.869</td>\n",
       "      <td>0.881</td>\n",
       "    </tr>\n",
       "    <tr>\n",
       "      <th>overall_height</th>\n",
       "      <td>0.828</td>\n",
       "      <td>-0.858</td>\n",
       "    </tr>\n",
       "    <tr>\n",
       "      <th>orientation</th>\n",
       "      <td>0.000</td>\n",
       "      <td>0.000</td>\n",
       "    </tr>\n",
       "    <tr>\n",
       "      <th>glazing_area</th>\n",
       "      <td>0.000</td>\n",
       "      <td>0.000</td>\n",
       "    </tr>\n",
       "    <tr>\n",
       "      <th>glazing_area_distribution</th>\n",
       "      <td>0.000</td>\n",
       "      <td>-0.000</td>\n",
       "    </tr>\n",
       "    <tr>\n",
       "      <th>heating_load</th>\n",
       "      <td>0.622</td>\n",
       "      <td>-0.658</td>\n",
       "    </tr>\n",
       "    <tr>\n",
       "      <th>cooling_load</th>\n",
       "      <td>0.634</td>\n",
       "      <td>-0.673</td>\n",
       "    </tr>\n",
       "    <tr>\n",
       "      <th>load</th>\n",
       "      <td>0.632</td>\n",
       "      <td>-0.669</td>\n",
       "    </tr>\n",
       "  </tbody>\n",
       "</table>\n",
       "</div>"
      ],
      "text/plain": [
       "                           relative_compactness  surface_area\n",
       "relative_compactness                      1.000        -0.992\n",
       "surface_area                             -0.992         1.000\n",
       "wall_area                                -0.204         0.196\n",
       "roof_area                                -0.869         0.881\n",
       "overall_height                            0.828        -0.858\n",
       "orientation                               0.000         0.000\n",
       "glazing_area                              0.000         0.000\n",
       "glazing_area_distribution                 0.000        -0.000\n",
       "heating_load                              0.622        -0.658\n",
       "cooling_load                              0.634        -0.673\n",
       "load                                      0.632        -0.669"
      ]
     },
     "execution_count": 18,
     "metadata": {},
     "output_type": "execute_result"
    }
   ],
   "source": [
    "# 코드를 입력해 주세요\n",
    "np.round(df.corr()[['relative_compactness', 'surface_area']], 3)"
   ]
  },
  {
   "cell_type": "markdown",
   "metadata": {},
   "source": [
    " - roof_area와 overall_height의 열 별 상관관계를 소수점 셋째자리까지 출력하세요."
   ]
  },
  {
   "cell_type": "code",
   "execution_count": 19,
   "metadata": {},
   "outputs": [
    {
     "data": {
      "text/html": [
       "<div>\n",
       "<style scoped>\n",
       "    .dataframe tbody tr th:only-of-type {\n",
       "        vertical-align: middle;\n",
       "    }\n",
       "\n",
       "    .dataframe tbody tr th {\n",
       "        vertical-align: top;\n",
       "    }\n",
       "\n",
       "    .dataframe thead th {\n",
       "        text-align: right;\n",
       "    }\n",
       "</style>\n",
       "<table border=\"1\" class=\"dataframe\">\n",
       "  <thead>\n",
       "    <tr style=\"text-align: right;\">\n",
       "      <th></th>\n",
       "      <th>roof_area</th>\n",
       "      <th>overall_height</th>\n",
       "    </tr>\n",
       "  </thead>\n",
       "  <tbody>\n",
       "    <tr>\n",
       "      <th>relative_compactness</th>\n",
       "      <td>-0.869</td>\n",
       "      <td>0.828</td>\n",
       "    </tr>\n",
       "    <tr>\n",
       "      <th>surface_area</th>\n",
       "      <td>0.881</td>\n",
       "      <td>-0.858</td>\n",
       "    </tr>\n",
       "    <tr>\n",
       "      <th>wall_area</th>\n",
       "      <td>-0.292</td>\n",
       "      <td>0.281</td>\n",
       "    </tr>\n",
       "    <tr>\n",
       "      <th>roof_area</th>\n",
       "      <td>1.000</td>\n",
       "      <td>-0.973</td>\n",
       "    </tr>\n",
       "    <tr>\n",
       "      <th>overall_height</th>\n",
       "      <td>-0.973</td>\n",
       "      <td>1.000</td>\n",
       "    </tr>\n",
       "    <tr>\n",
       "      <th>orientation</th>\n",
       "      <td>0.000</td>\n",
       "      <td>0.000</td>\n",
       "    </tr>\n",
       "    <tr>\n",
       "      <th>glazing_area</th>\n",
       "      <td>-0.000</td>\n",
       "      <td>0.000</td>\n",
       "    </tr>\n",
       "    <tr>\n",
       "      <th>glazing_area_distribution</th>\n",
       "      <td>-0.000</td>\n",
       "      <td>0.000</td>\n",
       "    </tr>\n",
       "    <tr>\n",
       "      <th>heating_load</th>\n",
       "      <td>-0.862</td>\n",
       "      <td>0.889</td>\n",
       "    </tr>\n",
       "    <tr>\n",
       "      <th>cooling_load</th>\n",
       "      <td>-0.863</td>\n",
       "      <td>0.896</td>\n",
       "    </tr>\n",
       "    <tr>\n",
       "      <th>load</th>\n",
       "      <td>-0.867</td>\n",
       "      <td>0.898</td>\n",
       "    </tr>\n",
       "  </tbody>\n",
       "</table>\n",
       "</div>"
      ],
      "text/plain": [
       "                           roof_area  overall_height\n",
       "relative_compactness          -0.869           0.828\n",
       "surface_area                   0.881          -0.858\n",
       "wall_area                     -0.292           0.281\n",
       "roof_area                      1.000          -0.973\n",
       "overall_height                -0.973           1.000\n",
       "orientation                    0.000           0.000\n",
       "glazing_area                  -0.000           0.000\n",
       "glazing_area_distribution     -0.000           0.000\n",
       "heating_load                  -0.862           0.889\n",
       "cooling_load                  -0.863           0.896\n",
       "load                          -0.867           0.898"
      ]
     },
     "execution_count": 19,
     "metadata": {},
     "output_type": "execute_result"
    }
   ],
   "source": [
    "# 코드를 입력해 주세요\n",
    "np.round(df.corr()[['roof_area', 'overall_height']], 3)"
   ]
  },
  {
   "cell_type": "markdown",
   "metadata": {},
   "source": [
    " - surface_area에 따른 load의 변화를 lineplot을 이용하여 overall_height 별로 시각화하세요.\n",
    "   * sns.lineplot(x= , y=, data=df)"
   ]
  },
  {
   "cell_type": "code",
   "execution_count": 20,
   "metadata": {},
   "outputs": [
    {
     "data": {
      "image/png": "[encoded data removed]",
      "text/plain": [
       "<Figure size 432x288 with 1 Axes>"
      ]
     },
     "metadata": {
      "needs_background": "light"
     },
     "output_type": "display_data"
    }
   ],
   "source": [
    "# 코드를 입력해 주세요\n",
    "sns.lineplot(x='surface_area', y='load', hue='overall_height', data=df)\n",
    "plt.show()"
   ]
  },
  {
   "cell_type": "markdown",
   "metadata": {},
   "source": [
    " - overall_height 별 샘플 수를 countplot으로 시각화하세요.\n",
    "   * sns.countplot(x= , data=df)"
   ]
  },
  {
   "cell_type": "code",
   "execution_count": 21,
   "metadata": {},
   "outputs": [
    {
     "data": {
      "image/png": "[encoded data removed]",
      "text/plain": [
       "<Figure size 432x288 with 1 Axes>"
      ]
     },
     "metadata": {
      "needs_background": "light"
     },
     "output_type": "display_data"
    }
   ],
   "source": [
    "# 코드를 입력해 주세요\n",
    "sns.countplot(x='overall_height', data=df)\n",
    "plt.show()"
   ]
  },
  {
   "cell_type": "markdown",
   "metadata": {},
   "source": [
    " - overall_height 별 load의 값의 평균을 barplot으로 시각화하세요.\n",
    "   * sns.barplot(x= , y= , data=df)\n"
   ]
  },
  {
   "cell_type": "code",
   "execution_count": 22,
   "metadata": {},
   "outputs": [
    {
     "data": {
      "image/png": "[encoded data removed]",
      "text/plain": [
       "<Figure size 432x288 with 1 Axes>"
      ]
     },
     "metadata": {
      "needs_background": "light"
     },
     "output_type": "display_data"
    }
   ],
   "source": [
    "# 코드를 입력해 주세요\n",
    "sns.barplot(x='overall_height', y='load', data=df)\n",
    "plt.show()"
   ]
  },
  {
   "cell_type": "markdown",
   "metadata": {},
   "source": [
    "## 학습에 사용할 열 선택\n",
    " - Y = load 열\n",
    " - X = load, heating_load, cooling_load, relative_compactness, roof_area를 제외한 나머지 열"
   ]
  },
  {
   "cell_type": "code",
   "execution_count": 23,
   "metadata": {},
   "outputs": [],
   "source": [
    "# 제외할 특성은 주석처리하세요.\n",
    "features = [\n",
    "    #'relative_compactness', \n",
    "    'surface_area', \n",
    "    'wall_area', \n",
    "    #'roof_area',\n",
    "    'overall_height',\n",
    "    #'orientation',\n",
    "    'glazing_area',\n",
    "    'glazing_area_distribution',\n",
    "]"
   ]
  },
  {
   "cell_type": "code",
   "execution_count": 24,
   "metadata": {},
   "outputs": [],
   "source": [
    "# 코드를 입력해 주세요\n",
    "# X와 Y를 분리하세요.\n",
    "X = df[features]\n",
    "Y = df['load']"
   ]
  },
  {
   "cell_type": "markdown",
   "metadata": {},
   "source": [
    " - X의 상위 5개 행과 shape을 출력하세요."
   ]
  },
  {
   "cell_type": "code",
   "execution_count": 25,
   "metadata": {},
   "outputs": [
    {
     "data": {
      "text/html": [
       "<div>\n",
       "<style scoped>\n",
       "    .dataframe tbody tr th:only-of-type {\n",
       "        vertical-align: middle;\n",
       "    }\n",
       "\n",
       "    .dataframe tbody tr th {\n",
       "        vertical-align: top;\n",
       "    }\n",
       "\n",
       "    .dataframe thead th {\n",
       "        text-align: right;\n",
       "    }\n",
       "</style>\n",
       "<table border=\"1\" class=\"dataframe\">\n",
       "  <thead>\n",
       "    <tr style=\"text-align: right;\">\n",
       "      <th></th>\n",
       "      <th>surface_area</th>\n",
       "      <th>wall_area</th>\n",
       "      <th>overall_height</th>\n",
       "      <th>glazing_area</th>\n",
       "      <th>glazing_area_distribution</th>\n",
       "    </tr>\n",
       "  </thead>\n",
       "  <tbody>\n",
       "    <tr>\n",
       "      <th>0</th>\n",
       "      <td>514.5</td>\n",
       "      <td>294.0</td>\n",
       "      <td>7.0</td>\n",
       "      <td>0.0</td>\n",
       "      <td>0</td>\n",
       "    </tr>\n",
       "    <tr>\n",
       "      <th>1</th>\n",
       "      <td>514.5</td>\n",
       "      <td>294.0</td>\n",
       "      <td>7.0</td>\n",
       "      <td>0.0</td>\n",
       "      <td>0</td>\n",
       "    </tr>\n",
       "    <tr>\n",
       "      <th>2</th>\n",
       "      <td>514.5</td>\n",
       "      <td>294.0</td>\n",
       "      <td>7.0</td>\n",
       "      <td>0.0</td>\n",
       "      <td>0</td>\n",
       "    </tr>\n",
       "    <tr>\n",
       "      <th>3</th>\n",
       "      <td>514.5</td>\n",
       "      <td>294.0</td>\n",
       "      <td>7.0</td>\n",
       "      <td>0.0</td>\n",
       "      <td>0</td>\n",
       "    </tr>\n",
       "    <tr>\n",
       "      <th>4</th>\n",
       "      <td>563.5</td>\n",
       "      <td>318.5</td>\n",
       "      <td>7.0</td>\n",
       "      <td>0.0</td>\n",
       "      <td>0</td>\n",
       "    </tr>\n",
       "  </tbody>\n",
       "</table>\n",
       "</div>"
      ],
      "text/plain": [
       "   surface_area  wall_area  overall_height  glazing_area  \\\n",
       "0         514.5      294.0             7.0           0.0   \n",
       "1         514.5      294.0             7.0           0.0   \n",
       "2         514.5      294.0             7.0           0.0   \n",
       "3         514.5      294.0             7.0           0.0   \n",
       "4         563.5      318.5             7.0           0.0   \n",
       "\n",
       "   glazing_area_distribution  \n",
       "0                          0  \n",
       "1                          0  \n",
       "2                          0  \n",
       "3                          0  \n",
       "4                          0  "
      ]
     },
     "metadata": {},
     "output_type": "display_data"
    },
    {
     "data": {
      "text/plain": [
       "(768, 5)"
      ]
     },
     "execution_count": 25,
     "metadata": {},
     "output_type": "execute_result"
    }
   ],
   "source": [
    "# 코드를 입력해 주세요\n",
    "display(X.head())\n",
    "X.shape"
   ]
  },
  {
   "cell_type": "markdown",
   "metadata": {},
   "source": [
    " - Y의 상위 5개 행과 shape을 출력하세요."
   ]
  },
  {
   "cell_type": "code",
   "execution_count": 26,
   "metadata": {},
   "outputs": [
    {
     "data": {
      "text/plain": [
       "0    36.88\n",
       "1    36.88\n",
       "2    36.88\n",
       "3    36.88\n",
       "4    49.12\n",
       "Name: load, dtype: float64"
      ]
     },
     "metadata": {},
     "output_type": "display_data"
    },
    {
     "data": {
      "text/plain": [
       "(768,)"
      ]
     },
     "execution_count": 26,
     "metadata": {},
     "output_type": "execute_result"
    }
   ],
   "source": [
    "# 코드를 입력해 주세요\n",
    "display(Y.head())\n",
    "Y.shape"
   ]
  },
  {
   "cell_type": "markdown",
   "metadata": {},
   "source": [
    "## 데이터 분할\n",
    " - 데이터를 학습 및 평가 데이터로 분할하세요.\n",
    " - 분할 비율은 75:25입니다.\n",
    " - random_state=0으로 설정하세요."
   ]
  },
  {
   "cell_type": "code",
   "execution_count": 27,
   "metadata": {},
   "outputs": [],
   "source": [
    "# 코드를 입력해 주세요\n",
    "from sklearn.model_selection import train_test_split\n",
    "x_train, x_test, y_train, y_test = train_test_split(X, Y, random_state=0)"
   ]
  },
  {
   "cell_type": "markdown",
   "metadata": {},
   "source": [
    " - 분할된 데이터의 shape을 출력하세요."
   ]
  },
  {
   "cell_type": "code",
   "execution_count": 28,
   "metadata": {},
   "outputs": [
    {
     "name": "stdout",
     "output_type": "stream",
     "text": [
      "X Train Shape :  (576, 5)\n",
      "X Test Shape :  (192, 5)\n",
      "Y Train Shape :  (576,)\n",
      "Y Test Shape :  (192,)\n"
     ]
    }
   ],
   "source": [
    "print('X Train Shape : ', x_train.shape)\n",
    "print('X Test Shape : ', x_test.shape)\n",
    "print('Y Train Shape : ', y_train.shape)\n",
    "print('Y Test Shape : ', y_test.shape)"
   ]
  },
  {
   "cell_type": "markdown",
   "metadata": {},
   "source": [
    "## 모델 생성 및 학습\n",
    " - LinearRegression 모델을 이용하여 모델링 후, 학습 및 평가 데이터의 R-squared 지표를 출력하세요."
   ]
  },
  {
   "cell_type": "code",
   "execution_count": 29,
   "metadata": {},
   "outputs": [
    {
     "data": {
      "text/plain": [
       "(0.9078998522153225, 0.9022865471270877)"
      ]
     },
     "execution_count": 29,
     "metadata": {},
     "output_type": "execute_result"
    }
   ],
   "source": [
    "# 코드를 입력해 주세요\n",
    "# 분할된 데이터를 LinearRegression으로 모델링 후 R squared를 출력하세요\n",
    "from sklearn.linear_model import LinearRegression\n",
    "\n",
    "model = LinearRegression()\n",
    "model.fit(x_train, y_train)\n",
    "model.score(x_train, y_train), model.score(x_test, y_test)"
   ]
  },
  {
   "cell_type": "markdown",
   "metadata": {},
   "source": [
    " - 학습된 모델의 회귀 계수와 절편을 출력하세요."
   ]
  },
  {
   "cell_type": "code",
   "execution_count": 30,
   "metadata": {},
   "outputs": [
    {
     "data": {
      "text/plain": [
       "(array([2.84849662e-02, 6.59589856e-02, 1.07202002e+01, 3.42050968e+01,\n",
       "        1.84472149e-01]),\n",
       " -58.02589560961214)"
      ]
     },
     "execution_count": 30,
     "metadata": {},
     "output_type": "execute_result"
    }
   ],
   "source": [
    "# 코드를 입력해 주세요\n",
    "model.coef_, model.intercept_"
   ]
  },
  {
   "cell_type": "markdown",
   "metadata": {},
   "source": [
    "## 모델 예측 및 평가\n",
    " - 전체 X 데이터의 예측 결과를 출력하세요."
   ]
  },
  {
   "cell_type": "code",
   "execution_count": 31,
   "metadata": {},
   "outputs": [
    {
     "data": {
      "text/plain": [
       "array([51.06296258, 51.06296258, 51.06296258, 51.06296258, 54.07472107,\n",
       "       54.07472107, 54.07472107, 54.07472107, 53.15660759, 53.15660759,\n",
       "       53.15660759, 53.15660759, 55.47048441, 55.47048441, 55.47048441,\n",
       "       55.47048441, 57.78436123, 57.78436123, 57.78436123, 57.78436123,\n",
       "       63.33022834, 63.33022834, 63.33022834, 63.33022834, 15.19544333,\n",
       "       15.19544333, 15.19544333, 15.19544333, 17.50932015, 17.50932015,\n",
       "       17.50932015, 17.50932015, 19.82319696, 19.82319696, 19.82319696,\n",
       "       19.82319696, 22.13707378, 22.13707378, 22.13707378, 22.13707378,\n",
       "       24.4509506 , 24.4509506 , 24.4509506 , 24.4509506 , 26.76482742,\n",
       "       26.76482742, 26.76482742, 26.76482742, 54.66794441, 54.66794441,\n",
       "       54.66794441, 54.66794441, 57.6797029 , 57.6797029 , 57.6797029 ,\n",
       "       57.6797029 , 56.76158942, 56.76158942, 56.76158942, 56.76158942,\n",
       "       59.07546624, 59.07546624, 59.07546624, 59.07546624, 61.38934306,\n",
       "       61.38934306, 61.38934306, 61.38934306, 66.93521017, 66.93521017,\n",
       "       66.93521017, 66.93521017, 18.80042516, 18.80042516, 18.80042516,\n",
       "       18.80042516, 21.11430198, 21.11430198, 21.11430198, 21.11430198,\n",
       "       23.42817879, 23.42817879, 23.42817879, 23.42817879, 25.74205561,\n",
       "       25.74205561, 25.74205561, 25.74205561, 28.05593243, 28.05593243,\n",
       "       28.05593243, 28.05593243, 30.36980925, 30.36980925, 30.36980925,\n",
       "       30.36980925, 54.85241656, 54.85241656, 54.85241656, 54.85241656,\n",
       "       57.86417505, 57.86417505, 57.86417505, 57.86417505, 56.94606157,\n",
       "       56.94606157, 56.94606157, 56.94606157, 59.25993839, 59.25993839,\n",
       "       59.25993839, 59.25993839, 61.57381521, 61.57381521, 61.57381521,\n",
       "       61.57381521, 67.11968232, 67.11968232, 67.11968232, 67.11968232,\n",
       "       18.98489731, 18.98489731, 18.98489731, 18.98489731, 21.29877413,\n",
       "       21.29877413, 21.29877413, 21.29877413, 23.61265094, 23.61265094,\n",
       "       23.61265094, 23.61265094, 25.92652776, 25.92652776, 25.92652776,\n",
       "       25.92652776, 28.24040458, 28.24040458, 28.24040458, 28.24040458,\n",
       "       30.5542814 , 30.5542814 , 30.5542814 , 30.5542814 , 55.03688871,\n",
       "       55.03688871, 55.03688871, 55.03688871, 58.0486472 , 58.0486472 ,\n",
       "       58.0486472 , 58.0486472 , 57.13053372, 57.13053372, 57.13053372,\n",
       "       57.13053372, 59.44441054, 59.44441054, 59.44441054, 59.44441054,\n",
       "       61.75828736, 61.75828736, 61.75828736, 61.75828736, 67.30415447,\n",
       "       67.30415447, 67.30415447, 67.30415447, 19.16936946, 19.16936946,\n",
       "       19.16936946, 19.16936946, 21.48324627, 21.48324627, 21.48324627,\n",
       "       21.48324627, 23.79712309, 23.79712309, 23.79712309, 23.79712309,\n",
       "       26.11099991, 26.11099991, 26.11099991, 26.11099991, 28.42487673,\n",
       "       28.42487673, 28.42487673, 28.42487673, 30.73875355, 30.73875355,\n",
       "       30.73875355, 30.73875355, 55.22136085, 55.22136085, 55.22136085,\n",
       "       55.22136085, 58.23311935, 58.23311935, 58.23311935, 58.23311935,\n",
       "       57.31500587, 57.31500587, 57.31500587, 57.31500587, 59.62888269,\n",
       "       59.62888269, 59.62888269, 59.62888269, 61.94275951, 61.94275951,\n",
       "       61.94275951, 61.94275951, 67.48862662, 67.48862662, 67.48862662,\n",
       "       67.48862662, 19.35384161, 19.35384161, 19.35384161, 19.35384161,\n",
       "       21.66771842, 21.66771842, 21.66771842, 21.66771842, 23.98159524,\n",
       "       23.98159524, 23.98159524, 23.98159524, 26.29547206, 26.29547206,\n",
       "       26.29547206, 26.29547206, 28.60934888, 28.60934888, 28.60934888,\n",
       "       28.60934888, 30.9232257 , 30.9232257 , 30.9232257 , 30.9232257 ,\n",
       "       55.405833  , 55.405833  , 55.405833  , 55.405833  , 58.41759149,\n",
       "       58.41759149, 58.41759149, 58.41759149, 57.49947802, 57.49947802,\n",
       "       57.49947802, 57.49947802, 59.81335484, 59.81335484, 59.81335484,\n",
       "       59.81335484, 62.12723166, 62.12723166, 62.12723166, 62.12723166,\n",
       "       67.67309877, 67.67309877, 67.67309877, 67.67309877, 19.53831376,\n",
       "       19.53831376, 19.53831376, 19.53831376, 21.85219057, 21.85219057,\n",
       "       21.85219057, 21.85219057, 24.16606739, 24.16606739, 24.16606739,\n",
       "       24.16606739, 26.47994421, 26.47994421, 26.47994421, 26.47994421,\n",
       "       28.79382103, 28.79382103, 28.79382103, 28.79382103, 31.10769785,\n",
       "       31.10769785, 31.10769785, 31.10769785, 59.79870893, 59.79870893,\n",
       "       59.79870893, 59.79870893, 62.81046742, 62.81046742, 62.81046742,\n",
       "       62.81046742, 61.89235394, 61.89235394, 61.89235394, 61.89235394,\n",
       "       64.20623076, 64.20623076, 64.20623076, 64.20623076, 66.52010758,\n",
       "       66.52010758, 66.52010758, 66.52010758, 72.06597469, 72.06597469,\n",
       "       72.06597469, 72.06597469, 23.93118968, 23.93118968, 23.93118968,\n",
       "       23.93118968, 26.2450665 , 26.2450665 , 26.2450665 , 26.2450665 ,\n",
       "       28.55894332, 28.55894332, 28.55894332, 28.55894332, 30.87282013,\n",
       "       30.87282013, 30.87282013, 30.87282013, 33.18669695, 33.18669695,\n",
       "       33.18669695, 33.18669695, 35.50057377, 35.50057377, 35.50057377,\n",
       "       35.50057377, 59.98318108, 59.98318108, 59.98318108, 59.98318108,\n",
       "       62.99493957, 62.99493957, 62.99493957, 62.99493957, 62.07682609,\n",
       "       62.07682609, 62.07682609, 62.07682609, 64.39070291, 64.39070291,\n",
       "       64.39070291, 64.39070291, 66.70457973, 66.70457973, 66.70457973,\n",
       "       66.70457973, 72.25044684, 72.25044684, 72.25044684, 72.25044684,\n",
       "       24.11566183, 24.11566183, 24.11566183, 24.11566183, 26.42953865,\n",
       "       26.42953865, 26.42953865, 26.42953865, 28.74341547, 28.74341547,\n",
       "       28.74341547, 28.74341547, 31.05729228, 31.05729228, 31.05729228,\n",
       "       31.05729228, 33.3711691 , 33.3711691 , 33.3711691 , 33.3711691 ,\n",
       "       35.68504592, 35.68504592, 35.68504592, 35.68504592, 60.16765323,\n",
       "       60.16765323, 60.16765323, 60.16765323, 63.17941172, 63.17941172,\n",
       "       63.17941172, 63.17941172, 62.26129824, 62.26129824, 62.26129824,\n",
       "       62.26129824, 64.57517506, 64.57517506, 64.57517506, 64.57517506,\n",
       "       66.88905188, 66.88905188, 66.88905188, 66.88905188, 72.43491899,\n",
       "       72.43491899, 72.43491899, 72.43491899, 24.30013398, 24.30013398,\n",
       "       24.30013398, 24.30013398, 26.6140108 , 26.6140108 , 26.6140108 ,\n",
       "       26.6140108 , 28.92788761, 28.92788761, 28.92788761, 28.92788761,\n",
       "       31.24176443, 31.24176443, 31.24176443, 31.24176443, 33.55564125,\n",
       "       33.55564125, 33.55564125, 33.55564125, 35.86951807, 35.86951807,\n",
       "       35.86951807, 35.86951807, 60.35212538, 60.35212538, 60.35212538,\n",
       "       60.35212538, 63.36388387, 63.36388387, 63.36388387, 63.36388387,\n",
       "       62.44577039, 62.44577039, 62.44577039, 62.44577039, 64.75964721,\n",
       "       64.75964721, 64.75964721, 64.75964721, 67.07352403, 67.07352403,\n",
       "       67.07352403, 67.07352403, 72.61939114, 72.61939114, 72.61939114,\n",
       "       72.61939114, 24.48460613, 24.48460613, 24.48460613, 24.48460613,\n",
       "       26.79848295, 26.79848295, 26.79848295, 26.79848295, 29.11235976,\n",
       "       29.11235976, 29.11235976, 29.11235976, 31.42623658, 31.42623658,\n",
       "       31.42623658, 31.42623658, 33.7401134 , 33.7401134 , 33.7401134 ,\n",
       "       33.7401134 , 36.05399022, 36.05399022, 36.05399022, 36.05399022,\n",
       "       60.53659753, 60.53659753, 60.53659753, 60.53659753, 63.54835602,\n",
       "       63.54835602, 63.54835602, 63.54835602, 62.63024254, 62.63024254,\n",
       "       62.63024254, 62.63024254, 64.94411936, 64.94411936, 64.94411936,\n",
       "       64.94411936, 67.25799618, 67.25799618, 67.25799618, 67.25799618,\n",
       "       72.80386329, 72.80386329, 72.80386329, 72.80386329, 24.66907828,\n",
       "       24.66907828, 24.66907828, 24.66907828, 26.98295509, 26.98295509,\n",
       "       26.98295509, 26.98295509, 29.29683191, 29.29683191, 29.29683191,\n",
       "       29.29683191, 31.61070873, 31.61070873, 31.61070873, 31.61070873,\n",
       "       33.92458555, 33.92458555, 33.92458555, 33.92458555, 36.23846237,\n",
       "       36.23846237, 36.23846237, 36.23846237, 64.92947345, 64.92947345,\n",
       "       64.92947345, 64.92947345, 67.94123194, 67.94123194, 67.94123194,\n",
       "       67.94123194, 67.02311846, 67.02311846, 67.02311846, 67.02311846,\n",
       "       69.33699528, 69.33699528, 69.33699528, 69.33699528, 71.6508721 ,\n",
       "       71.6508721 , 71.6508721 , 71.6508721 , 77.19673921, 77.19673921,\n",
       "       77.19673921, 77.19673921, 29.0619542 , 29.0619542 , 29.0619542 ,\n",
       "       29.0619542 , 31.37583102, 31.37583102, 31.37583102, 31.37583102,\n",
       "       33.68970784, 33.68970784, 33.68970784, 33.68970784, 36.00358466,\n",
       "       36.00358466, 36.00358466, 36.00358466, 38.31746147, 38.31746147,\n",
       "       38.31746147, 38.31746147, 40.63133829, 40.63133829, 40.63133829,\n",
       "       40.63133829, 65.1139456 , 65.1139456 , 65.1139456 , 65.1139456 ,\n",
       "       68.12570409, 68.12570409, 68.12570409, 68.12570409, 67.20759061,\n",
       "       67.20759061, 67.20759061, 67.20759061, 69.52146743, 69.52146743,\n",
       "       69.52146743, 69.52146743, 71.83534425, 71.83534425, 71.83534425,\n",
       "       71.83534425, 77.38121136, 77.38121136, 77.38121136, 77.38121136,\n",
       "       29.24642635, 29.24642635, 29.24642635, 29.24642635, 31.56030317,\n",
       "       31.56030317, 31.56030317, 31.56030317, 33.87417999, 33.87417999,\n",
       "       33.87417999, 33.87417999, 36.1880568 , 36.1880568 , 36.1880568 ,\n",
       "       36.1880568 , 38.50193362, 38.50193362, 38.50193362, 38.50193362,\n",
       "       40.81581044, 40.81581044, 40.81581044, 40.81581044, 65.29841775,\n",
       "       65.29841775, 65.29841775, 65.29841775, 68.31017624, 68.31017624,\n",
       "       68.31017624, 68.31017624, 67.39206276, 67.39206276, 67.39206276,\n",
       "       67.39206276, 69.70593958, 69.70593958, 69.70593958, 69.70593958,\n",
       "       72.0198164 , 72.0198164 , 72.0198164 , 72.0198164 , 77.56568351,\n",
       "       77.56568351, 77.56568351, 77.56568351, 29.4308985 , 29.4308985 ,\n",
       "       29.4308985 , 29.4308985 , 31.74477532, 31.74477532, 31.74477532,\n",
       "       31.74477532, 34.05865214, 34.05865214, 34.05865214, 34.05865214,\n",
       "       36.37252895, 36.37252895, 36.37252895, 36.37252895, 38.68640577,\n",
       "       38.68640577, 38.68640577, 38.68640577, 41.00028259, 41.00028259,\n",
       "       41.00028259, 41.00028259, 65.4828899 , 65.4828899 , 65.4828899 ,\n",
       "       65.4828899 , 68.49464839, 68.49464839, 68.49464839, 68.49464839,\n",
       "       67.57653491, 67.57653491, 67.57653491, 67.57653491, 69.89041173,\n",
       "       69.89041173, 69.89041173, 69.89041173, 72.20428855, 72.20428855,\n",
       "       72.20428855, 72.20428855, 77.75015566, 77.75015566, 77.75015566,\n",
       "       77.75015566, 29.61537065, 29.61537065, 29.61537065, 29.61537065,\n",
       "       31.92924747, 31.92924747, 31.92924747, 31.92924747, 34.24312428,\n",
       "       34.24312428, 34.24312428, 34.24312428, 36.5570011 , 36.5570011 ,\n",
       "       36.5570011 , 36.5570011 , 38.87087792, 38.87087792, 38.87087792,\n",
       "       38.87087792, 41.18475474, 41.18475474, 41.18475474, 41.18475474,\n",
       "       65.66736205, 65.66736205, 65.66736205, 65.66736205, 68.67912054,\n",
       "       68.67912054, 68.67912054, 68.67912054, 67.76100706, 67.76100706,\n",
       "       67.76100706, 67.76100706, 70.07488388, 70.07488388, 70.07488388,\n",
       "       70.07488388, 72.3887607 , 72.3887607 , 72.3887607 , 72.3887607 ,\n",
       "       77.93462781, 77.93462781, 77.93462781, 77.93462781, 29.7998428 ,\n",
       "       29.7998428 , 29.7998428 , 29.7998428 , 32.11371962, 32.11371962,\n",
       "       32.11371962, 32.11371962, 34.42759643, 34.42759643, 34.42759643,\n",
       "       34.42759643, 36.74147325, 36.74147325, 36.74147325, 36.74147325,\n",
       "       39.05535007, 39.05535007, 39.05535007, 39.05535007, 41.36922689,\n",
       "       41.36922689, 41.36922689, 41.36922689])"
      ]
     },
     "execution_count": 31,
     "metadata": {},
     "output_type": "execute_result"
    }
   ],
   "source": [
    "# 코드를 입력해 주세요\n",
    "pred = model.predict(X)\n",
    "pred"
   ]
  },
  {
   "cell_type": "markdown",
   "metadata": {},
   "source": [
    " - 예측 결과를 각load_pred로 df에 추가하세요."
   ]
  },
  {
   "cell_type": "code",
   "execution_count": 32,
   "metadata": {},
   "outputs": [
    {
     "data": {
      "text/html": [
       "<div>\n",
       "<style scoped>\n",
       "    .dataframe tbody tr th:only-of-type {\n",
       "        vertical-align: middle;\n",
       "    }\n",
       "\n",
       "    .dataframe tbody tr th {\n",
       "        vertical-align: top;\n",
       "    }\n",
       "\n",
       "    .dataframe thead th {\n",
       "        text-align: right;\n",
       "    }\n",
       "</style>\n",
       "<table border=\"1\" class=\"dataframe\">\n",
       "  <thead>\n",
       "    <tr style=\"text-align: right;\">\n",
       "      <th></th>\n",
       "      <th>relative_compactness</th>\n",
       "      <th>surface_area</th>\n",
       "      <th>wall_area</th>\n",
       "      <th>roof_area</th>\n",
       "      <th>overall_height</th>\n",
       "      <th>orientation</th>\n",
       "      <th>glazing_area</th>\n",
       "      <th>glazing_area_distribution</th>\n",
       "      <th>heating_load</th>\n",
       "      <th>cooling_load</th>\n",
       "      <th>load</th>\n",
       "      <th>load_pred</th>\n",
       "    </tr>\n",
       "  </thead>\n",
       "  <tbody>\n",
       "    <tr>\n",
       "      <th>0</th>\n",
       "      <td>0.98</td>\n",
       "      <td>514.5</td>\n",
       "      <td>294.0</td>\n",
       "      <td>110.25</td>\n",
       "      <td>7.0</td>\n",
       "      <td>2</td>\n",
       "      <td>0.0</td>\n",
       "      <td>0</td>\n",
       "      <td>15.55</td>\n",
       "      <td>21.33</td>\n",
       "      <td>36.88</td>\n",
       "      <td>51.062963</td>\n",
       "    </tr>\n",
       "    <tr>\n",
       "      <th>1</th>\n",
       "      <td>0.98</td>\n",
       "      <td>514.5</td>\n",
       "      <td>294.0</td>\n",
       "      <td>110.25</td>\n",
       "      <td>7.0</td>\n",
       "      <td>3</td>\n",
       "      <td>0.0</td>\n",
       "      <td>0</td>\n",
       "      <td>15.55</td>\n",
       "      <td>21.33</td>\n",
       "      <td>36.88</td>\n",
       "      <td>51.062963</td>\n",
       "    </tr>\n",
       "    <tr>\n",
       "      <th>2</th>\n",
       "      <td>0.98</td>\n",
       "      <td>514.5</td>\n",
       "      <td>294.0</td>\n",
       "      <td>110.25</td>\n",
       "      <td>7.0</td>\n",
       "      <td>4</td>\n",
       "      <td>0.0</td>\n",
       "      <td>0</td>\n",
       "      <td>15.55</td>\n",
       "      <td>21.33</td>\n",
       "      <td>36.88</td>\n",
       "      <td>51.062963</td>\n",
       "    </tr>\n",
       "    <tr>\n",
       "      <th>3</th>\n",
       "      <td>0.98</td>\n",
       "      <td>514.5</td>\n",
       "      <td>294.0</td>\n",
       "      <td>110.25</td>\n",
       "      <td>7.0</td>\n",
       "      <td>5</td>\n",
       "      <td>0.0</td>\n",
       "      <td>0</td>\n",
       "      <td>15.55</td>\n",
       "      <td>21.33</td>\n",
       "      <td>36.88</td>\n",
       "      <td>51.062963</td>\n",
       "    </tr>\n",
       "    <tr>\n",
       "      <th>4</th>\n",
       "      <td>0.90</td>\n",
       "      <td>563.5</td>\n",
       "      <td>318.5</td>\n",
       "      <td>122.50</td>\n",
       "      <td>7.0</td>\n",
       "      <td>2</td>\n",
       "      <td>0.0</td>\n",
       "      <td>0</td>\n",
       "      <td>20.84</td>\n",
       "      <td>28.28</td>\n",
       "      <td>49.12</td>\n",
       "      <td>54.074721</td>\n",
       "    </tr>\n",
       "    <tr>\n",
       "      <th>...</th>\n",
       "      <td>...</td>\n",
       "      <td>...</td>\n",
       "      <td>...</td>\n",
       "      <td>...</td>\n",
       "      <td>...</td>\n",
       "      <td>...</td>\n",
       "      <td>...</td>\n",
       "      <td>...</td>\n",
       "      <td>...</td>\n",
       "      <td>...</td>\n",
       "      <td>...</td>\n",
       "      <td>...</td>\n",
       "    </tr>\n",
       "    <tr>\n",
       "      <th>763</th>\n",
       "      <td>0.64</td>\n",
       "      <td>784.0</td>\n",
       "      <td>343.0</td>\n",
       "      <td>220.50</td>\n",
       "      <td>3.5</td>\n",
       "      <td>5</td>\n",
       "      <td>0.4</td>\n",
       "      <td>5</td>\n",
       "      <td>17.88</td>\n",
       "      <td>21.40</td>\n",
       "      <td>39.28</td>\n",
       "      <td>39.055350</td>\n",
       "    </tr>\n",
       "    <tr>\n",
       "      <th>764</th>\n",
       "      <td>0.62</td>\n",
       "      <td>808.5</td>\n",
       "      <td>367.5</td>\n",
       "      <td>220.50</td>\n",
       "      <td>3.5</td>\n",
       "      <td>2</td>\n",
       "      <td>0.4</td>\n",
       "      <td>5</td>\n",
       "      <td>16.54</td>\n",
       "      <td>16.88</td>\n",
       "      <td>33.42</td>\n",
       "      <td>41.369227</td>\n",
       "    </tr>\n",
       "    <tr>\n",
       "      <th>765</th>\n",
       "      <td>0.62</td>\n",
       "      <td>808.5</td>\n",
       "      <td>367.5</td>\n",
       "      <td>220.50</td>\n",
       "      <td>3.5</td>\n",
       "      <td>3</td>\n",
       "      <td>0.4</td>\n",
       "      <td>5</td>\n",
       "      <td>16.44</td>\n",
       "      <td>17.11</td>\n",
       "      <td>33.55</td>\n",
       "      <td>41.369227</td>\n",
       "    </tr>\n",
       "    <tr>\n",
       "      <th>766</th>\n",
       "      <td>0.62</td>\n",
       "      <td>808.5</td>\n",
       "      <td>367.5</td>\n",
       "      <td>220.50</td>\n",
       "      <td>3.5</td>\n",
       "      <td>4</td>\n",
       "      <td>0.4</td>\n",
       "      <td>5</td>\n",
       "      <td>16.48</td>\n",
       "      <td>16.61</td>\n",
       "      <td>33.09</td>\n",
       "      <td>41.369227</td>\n",
       "    </tr>\n",
       "    <tr>\n",
       "      <th>767</th>\n",
       "      <td>0.62</td>\n",
       "      <td>808.5</td>\n",
       "      <td>367.5</td>\n",
       "      <td>220.50</td>\n",
       "      <td>3.5</td>\n",
       "      <td>5</td>\n",
       "      <td>0.4</td>\n",
       "      <td>5</td>\n",
       "      <td>16.64</td>\n",
       "      <td>16.03</td>\n",
       "      <td>32.67</td>\n",
       "      <td>41.369227</td>\n",
       "    </tr>\n",
       "  </tbody>\n",
       "</table>\n",
       "<p>768 rows × 12 columns</p>\n",
       "</div>"
      ],
      "text/plain": [
       "     relative_compactness  surface_area  wall_area  roof_area  overall_height  \\\n",
       "0                    0.98         514.5      294.0     110.25             7.0   \n",
       "1                    0.98         514.5      294.0     110.25             7.0   \n",
       "2                    0.98         514.5      294.0     110.25             7.0   \n",
       "3                    0.98         514.5      294.0     110.25             7.0   \n",
       "4                    0.90         563.5      318.5     122.50             7.0   \n",
       "..                    ...           ...        ...        ...             ...   \n",
       "763                  0.64         784.0      343.0     220.50             3.5   \n",
       "764                  0.62         808.5      367.5     220.50             3.5   \n",
       "765                  0.62         808.5      367.5     220.50             3.5   \n",
       "766                  0.62         808.5      367.5     220.50             3.5   \n",
       "767                  0.62         808.5      367.5     220.50             3.5   \n",
       "\n",
       "     orientation  glazing_area  glazing_area_distribution  heating_load  \\\n",
       "0              2           0.0                          0         15.55   \n",
       "1              3           0.0                          0         15.55   \n",
       "2              4           0.0                          0         15.55   \n",
       "3              5           0.0                          0         15.55   \n",
       "4              2           0.0                          0         20.84   \n",
       "..           ...           ...                        ...           ...   \n",
       "763            5           0.4                          5         17.88   \n",
       "764            2           0.4                          5         16.54   \n",
       "765            3           0.4                          5         16.44   \n",
       "766            4           0.4                          5         16.48   \n",
       "767            5           0.4                          5         16.64   \n",
       "\n",
       "     cooling_load   load  load_pred  \n",
       "0           21.33  36.88  51.062963  \n",
       "1           21.33  36.88  51.062963  \n",
       "2           21.33  36.88  51.062963  \n",
       "3           21.33  36.88  51.062963  \n",
       "4           28.28  49.12  54.074721  \n",
       "..            ...    ...        ...  \n",
       "763         21.40  39.28  39.055350  \n",
       "764         16.88  33.42  41.369227  \n",
       "765         17.11  33.55  41.369227  \n",
       "766         16.61  33.09  41.369227  \n",
       "767         16.03  32.67  41.369227  \n",
       "\n",
       "[768 rows x 12 columns]"
      ]
     },
     "execution_count": 32,
     "metadata": {},
     "output_type": "execute_result"
    }
   ],
   "source": [
    "# 코드를 입력해 주세요\n",
    "df['load_pred'] = pred\n",
    "df"
   ]
  },
  {
   "cell_type": "markdown",
   "metadata": {},
   "source": [
    " - 실제 냉난방 로드와 예측 로드의 R-squared, MSE, MAE를 각각 출력하세요."
   ]
  },
  {
   "cell_type": "code",
   "execution_count": 33,
   "metadata": {},
   "outputs": [
    {
     "name": "stdout",
     "output_type": "stream",
     "text": [
      "Load\n",
      "R squared :  0.906478611301612\n",
      "Mean Squared Error:  35.460421866624074\n",
      "Mean Absolute Error:  4.3704480370181855\n"
     ]
    }
   ],
   "source": [
    "from sklearn.metrics import r2_score\n",
    "from sklearn.metrics import mean_squared_error\n",
    "from sklearn.metrics import mean_absolute_error\n",
    "print('Load')\n",
    "print('R squared : ', r2_score(df['load'], df['load_pred']))\n",
    "print('Mean Squared Error: ', mean_squared_error(df['load'], df['load_pred']))\n",
    "print('Mean Absolute Error: ', mean_absolute_error(df['load'], df['load_pred']))"
   ]
  }
 ],
 "metadata": {
  "kernelspec": {
   "display_name": "Python 3 (ipykernel)",
   "language": "python",
   "name": "python3"
  },
  "language_info": {
   "codemirror_mode": {
    "name": "ipython",
    "version": 3
   },
   "file_extension": ".py",
   "mimetype": "text/x-python",
   "name": "python",
   "nbconvert_exporter": "python",
   "pygments_lexer": "ipython3",
   "version": "3.10.10"
  },
  "vscode": {
   "interpreter": {
    "hash": "40d3a090f54c6569ab1632332b64b2c03c39dcf918b08424e98f38b5ae0af88f"
   }
  }
 },
 "nbformat": 4,
 "nbformat_minor": 4
}
