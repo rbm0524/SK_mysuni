{
 "cells": [
  {
   "cell_type": "markdown",
   "metadata": {},
   "source": [
    "# 웨이퍼 합격/불합격 분류\n",
    "- –1은 합격에 해당하고 1은 불합격에 해당\n",
    "- 데이터 타임 스탬프는 해당 특정 시험 지점을 의미"
   ]
  },
  {
   "cell_type": "markdown",
   "metadata": {},
   "source": [
    "# 환경설정"
   ]
  },
  {
   "cell_type": "code",
   "execution_count": 1,
   "metadata": {
    "_cell_guid": "b1076dfc-b9ad-4769-8c92-a6c4dae69d19",
    "_uuid": "8f2839f25d086af736a60e9eeb907d3b93b6e0e5"
   },
   "outputs": [],
   "source": [
    "import numpy as np \n",
    "import pandas as pd \n",
    "import matplotlib.pyplot as plt\n",
    "import seaborn as sns"
   ]
  },
  {
   "cell_type": "markdown",
   "metadata": {},
   "source": [
    "## 데이터 읽기 및 조회\n",
    " - `/mnt/elice/dataset` 디렉토리에 있는 `uci-secom.csv` 파일을 읽어오세요.\n",
    " - 상위 5개 샘플(행) 조회"
   ]
  },
  {
   "cell_type": "code",
   "execution_count": 2,
   "metadata": {
    "_cell_guid": "79c7e3d0-c299-4dcb-8224-4455121ee9b0",
    "_uuid": "d629ff2d2480ee46fbb7e2d37f6b5fab8052498a"
   },
   "outputs": [
    {
     "data": {
      "text/html": [
       "<div>\n",
       "<style scoped>\n",
       "    .dataframe tbody tr th:only-of-type {\n",
       "        vertical-align: middle;\n",
       "    }\n",
       "\n",
       "    .dataframe tbody tr th {\n",
       "        vertical-align: top;\n",
       "    }\n",
       "\n",
       "    .dataframe thead th {\n",
       "        text-align: right;\n",
       "    }\n",
       "</style>\n",
       "<table border=\"1\" class=\"dataframe\">\n",
       "  <thead>\n",
       "    <tr style=\"text-align: right;\">\n",
       "      <th></th>\n",
       "      <th>Time</th>\n",
       "      <th>0</th>\n",
       "      <th>1</th>\n",
       "      <th>2</th>\n",
       "      <th>3</th>\n",
       "      <th>4</th>\n",
       "      <th>5</th>\n",
       "      <th>6</th>\n",
       "      <th>7</th>\n",
       "      <th>8</th>\n",
       "      <th>...</th>\n",
       "      <th>581</th>\n",
       "      <th>582</th>\n",
       "      <th>583</th>\n",
       "      <th>584</th>\n",
       "      <th>585</th>\n",
       "      <th>586</th>\n",
       "      <th>587</th>\n",
       "      <th>588</th>\n",
       "      <th>589</th>\n",
       "      <th>Pass/Fail</th>\n",
       "    </tr>\n",
       "  </thead>\n",
       "  <tbody>\n",
       "    <tr>\n",
       "      <th>0</th>\n",
       "      <td>2008-07-19 11:55:00</td>\n",
       "      <td>3030.93</td>\n",
       "      <td>2564.00</td>\n",
       "      <td>2187.7333</td>\n",
       "      <td>1411.1265</td>\n",
       "      <td>1.3602</td>\n",
       "      <td>100.0</td>\n",
       "      <td>97.6133</td>\n",
       "      <td>0.1242</td>\n",
       "      <td>1.5005</td>\n",
       "      <td>...</td>\n",
       "      <td>NaN</td>\n",
       "      <td>0.5005</td>\n",
       "      <td>0.0118</td>\n",
       "      <td>0.0035</td>\n",
       "      <td>2.3630</td>\n",
       "      <td>NaN</td>\n",
       "      <td>NaN</td>\n",
       "      <td>NaN</td>\n",
       "      <td>NaN</td>\n",
       "      <td>-1</td>\n",
       "    </tr>\n",
       "    <tr>\n",
       "      <th>1</th>\n",
       "      <td>2008-07-19 12:32:00</td>\n",
       "      <td>3095.78</td>\n",
       "      <td>2465.14</td>\n",
       "      <td>2230.4222</td>\n",
       "      <td>1463.6606</td>\n",
       "      <td>0.8294</td>\n",
       "      <td>100.0</td>\n",
       "      <td>102.3433</td>\n",
       "      <td>0.1247</td>\n",
       "      <td>1.4966</td>\n",
       "      <td>...</td>\n",
       "      <td>208.2045</td>\n",
       "      <td>0.5019</td>\n",
       "      <td>0.0223</td>\n",
       "      <td>0.0055</td>\n",
       "      <td>4.4447</td>\n",
       "      <td>0.0096</td>\n",
       "      <td>0.0201</td>\n",
       "      <td>0.0060</td>\n",
       "      <td>208.2045</td>\n",
       "      <td>-1</td>\n",
       "    </tr>\n",
       "    <tr>\n",
       "      <th>2</th>\n",
       "      <td>2008-07-19 13:17:00</td>\n",
       "      <td>2932.61</td>\n",
       "      <td>2559.94</td>\n",
       "      <td>2186.4111</td>\n",
       "      <td>1698.0172</td>\n",
       "      <td>1.5102</td>\n",
       "      <td>100.0</td>\n",
       "      <td>95.4878</td>\n",
       "      <td>0.1241</td>\n",
       "      <td>1.4436</td>\n",
       "      <td>...</td>\n",
       "      <td>82.8602</td>\n",
       "      <td>0.4958</td>\n",
       "      <td>0.0157</td>\n",
       "      <td>0.0039</td>\n",
       "      <td>3.1745</td>\n",
       "      <td>0.0584</td>\n",
       "      <td>0.0484</td>\n",
       "      <td>0.0148</td>\n",
       "      <td>82.8602</td>\n",
       "      <td>1</td>\n",
       "    </tr>\n",
       "    <tr>\n",
       "      <th>3</th>\n",
       "      <td>2008-07-19 14:43:00</td>\n",
       "      <td>2988.72</td>\n",
       "      <td>2479.90</td>\n",
       "      <td>2199.0333</td>\n",
       "      <td>909.7926</td>\n",
       "      <td>1.3204</td>\n",
       "      <td>100.0</td>\n",
       "      <td>104.2367</td>\n",
       "      <td>0.1217</td>\n",
       "      <td>1.4882</td>\n",
       "      <td>...</td>\n",
       "      <td>73.8432</td>\n",
       "      <td>0.4990</td>\n",
       "      <td>0.0103</td>\n",
       "      <td>0.0025</td>\n",
       "      <td>2.0544</td>\n",
       "      <td>0.0202</td>\n",
       "      <td>0.0149</td>\n",
       "      <td>0.0044</td>\n",
       "      <td>73.8432</td>\n",
       "      <td>-1</td>\n",
       "    </tr>\n",
       "    <tr>\n",
       "      <th>4</th>\n",
       "      <td>2008-07-19 15:22:00</td>\n",
       "      <td>3032.24</td>\n",
       "      <td>2502.87</td>\n",
       "      <td>2233.3667</td>\n",
       "      <td>1326.5200</td>\n",
       "      <td>1.5334</td>\n",
       "      <td>100.0</td>\n",
       "      <td>100.3967</td>\n",
       "      <td>0.1235</td>\n",
       "      <td>1.5031</td>\n",
       "      <td>...</td>\n",
       "      <td>NaN</td>\n",
       "      <td>0.4800</td>\n",
       "      <td>0.4766</td>\n",
       "      <td>0.1045</td>\n",
       "      <td>99.3032</td>\n",
       "      <td>0.0202</td>\n",
       "      <td>0.0149</td>\n",
       "      <td>0.0044</td>\n",
       "      <td>73.8432</td>\n",
       "      <td>-1</td>\n",
       "    </tr>\n",
       "  </tbody>\n",
       "</table>\n",
       "<p>5 rows × 592 columns</p>\n",
       "</div>"
      ],
      "text/plain": [
       "                  Time        0        1          2          3       4      5  \\\n",
       "0  2008-07-19 11:55:00  3030.93  2564.00  2187.7333  1411.1265  1.3602  100.0   \n",
       "1  2008-07-19 12:32:00  3095.78  2465.14  2230.4222  1463.6606  0.8294  100.0   \n",
       "2  2008-07-19 13:17:00  2932.61  2559.94  2186.4111  1698.0172  1.5102  100.0   \n",
       "3  2008-07-19 14:43:00  2988.72  2479.90  2199.0333   909.7926  1.3204  100.0   \n",
       "4  2008-07-19 15:22:00  3032.24  2502.87  2233.3667  1326.5200  1.5334  100.0   \n",
       "\n",
       "          6       7       8  ...       581     582     583     584      585  \\\n",
       "0   97.6133  0.1242  1.5005  ...       NaN  0.5005  0.0118  0.0035   2.3630   \n",
       "1  102.3433  0.1247  1.4966  ...  208.2045  0.5019  0.0223  0.0055   4.4447   \n",
       "2   95.4878  0.1241  1.4436  ...   82.8602  0.4958  0.0157  0.0039   3.1745   \n",
       "3  104.2367  0.1217  1.4882  ...   73.8432  0.4990  0.0103  0.0025   2.0544   \n",
       "4  100.3967  0.1235  1.5031  ...       NaN  0.4800  0.4766  0.1045  99.3032   \n",
       "\n",
       "      586     587     588       589  Pass/Fail  \n",
       "0     NaN     NaN     NaN       NaN         -1  \n",
       "1  0.0096  0.0201  0.0060  208.2045         -1  \n",
       "2  0.0584  0.0484  0.0148   82.8602          1  \n",
       "3  0.0202  0.0149  0.0044   73.8432         -1  \n",
       "4  0.0202  0.0149  0.0044   73.8432         -1  \n",
       "\n",
       "[5 rows x 592 columns]"
      ]
     },
     "execution_count": 2,
     "metadata": {},
     "output_type": "execute_result"
    }
   ],
   "source": [
    "# 코드를 입력해 주세요\n",
    "data = pd.read_csv('/mnt/elice/dataset/uci-secom.csv') \n",
    "data.head()"
   ]
  },
  {
   "cell_type": "markdown",
   "metadata": {},
   "source": [
    "- Pass/Fail 컬럼의 값별 개수를 계산하세요."
   ]
  },
  {
   "cell_type": "code",
   "execution_count": 3,
   "metadata": {},
   "outputs": [
    {
     "data": {
      "text/plain": [
       "-1    1463\n",
       " 1     104\n",
       "Name: Pass/Fail, dtype: int64"
      ]
     },
     "execution_count": 3,
     "metadata": {},
     "output_type": "execute_result"
    }
   ],
   "source": [
    "# 코드를 입력해 주세요\n",
    "data['Pass/Fail'].value_counts()"
   ]
  },
  {
   "cell_type": "markdown",
   "metadata": {},
   "source": [
    "### 결측치 처리"
   ]
  },
  {
   "cell_type": "markdown",
   "metadata": {},
   "source": [
    "* 열 별 결측치 개수를 출력하세요"
   ]
  },
  {
   "cell_type": "code",
   "execution_count": 4,
   "metadata": {},
   "outputs": [
    {
     "data": {
      "text/plain": [
       "Time          0\n",
       "0             6\n",
       "1             7\n",
       "2            14\n",
       "3            14\n",
       "             ..\n",
       "586           1\n",
       "587           1\n",
       "588           1\n",
       "589           1\n",
       "Pass/Fail     0\n",
       "Length: 592, dtype: int64"
      ]
     },
     "execution_count": 4,
     "metadata": {},
     "output_type": "execute_result"
    }
   ],
   "source": [
    "# 코드를 입력해 주세요\n",
    "data.isna().sum()"
   ]
  },
  {
   "cell_type": "markdown",
   "metadata": {},
   "source": [
    "- 열별 결측치 개수 계산 결과의 분포를 시각화 하세요."
   ]
  },
  {
   "cell_type": "code",
   "execution_count": 5,
   "metadata": {},
   "outputs": [
    {
     "data": {
      "image/png": "[encoded data removed]",
      "text/plain": [
       "<Figure size 640x480 with 1 Axes>"
      ]
     },
     "metadata": {},
     "output_type": "display_data"
    }
   ],
   "source": [
    "# 코드를 입력해 주세요\n",
    "plt.hist(data.isna().sum())\n",
    "plt.show()"
   ]
  },
  {
   "cell_type": "markdown",
   "metadata": {},
   "source": [
    "- 열별 결측치 개수 계산 결과의 기술 통계를 계산하세요."
   ]
  },
  {
   "cell_type": "code",
   "execution_count": 6,
   "metadata": {},
   "outputs": [
    {
     "data": {
      "text/plain": [
       "count     592.000000\n",
       "mean       70.863176\n",
       "std       241.476304\n",
       "min         0.000000\n",
       "25%         2.000000\n",
       "50%         6.000000\n",
       "75%         9.000000\n",
       "max      1429.000000\n",
       "dtype: float64"
      ]
     },
     "execution_count": 6,
     "metadata": {},
     "output_type": "execute_result"
    }
   ],
   "source": [
    "# 코드를 입력해 주세요\n",
    "data.isna().sum().describe()"
   ]
  },
  {
   "cell_type": "markdown",
   "metadata": {},
   "source": [
    "* 전체 na 개수를 출력하세요"
   ]
  },
  {
   "cell_type": "code",
   "execution_count": 7,
   "metadata": {},
   "outputs": [
    {
     "data": {
      "text/plain": [
       "41951"
      ]
     },
     "execution_count": 7,
     "metadata": {},
     "output_type": "execute_result"
    }
   ],
   "source": [
    "# 코드를 입력해 주세요\n",
    "data.isna().sum().sum()"
   ]
  },
  {
   "cell_type": "markdown",
   "metadata": {},
   "source": [
    "* 데이터프레임 정보를 출력하세요\n",
    "    - 각 컬럼별 데이터 개수와 데이터 타입을 조회하세요.\n",
    "    - verbose=True, show_counts=True로 설정하세요."
   ]
  },
  {
   "cell_type": "code",
   "execution_count": 8,
   "metadata": {
    "_uuid": "a8a0a7e7f2ff4e9dad72855dd28a016d35e51a04"
   },
   "outputs": [
    {
     "name": "stdout",
     "output_type": "stream",
     "text": [
      "<class 'pandas.core.frame.DataFrame'>\n",
      "RangeIndex: 1567 entries, 0 to 1566\n",
      "Data columns (total 592 columns):\n",
      " #    Column     Non-Null Count  Dtype  \n",
      "---   ------     --------------  -----  \n",
      " 0    Time       1567 non-null   object \n",
      " 1    0          1561 non-null   float64\n",
      " 2    1          1560 non-null   float64\n",
      " 3    2          1553 non-null   float64\n",
      " 4    3          1553 non-null   float64\n",
      " 5    4          1553 non-null   float64\n",
      " 6    5          1553 non-null   float64\n",
      " 7    6          1553 non-null   float64\n",
      " 8    7          1558 non-null   float64\n",
      " 9    8          1565 non-null   float64\n",
      " 10   9          1565 non-null   float64\n",
      " 11   10         1565 non-null   float64\n",
      " 12   11         1565 non-null   float64\n",
      " 13   12         1565 non-null   float64\n",
      " 14   13         1564 non-null   float64\n",
      " 15   14         1564 non-null   float64\n",
      " 16   15         1564 non-null   float64\n",
      " 17   16         1564 non-null   float64\n",
      " 18   17         1564 non-null   float64\n",
      " 19   18         1564 non-null   float64\n",
      " 20   19         1557 non-null   float64\n",
      " 21   20         1567 non-null   float64\n",
      " 22   21         1565 non-null   float64\n",
      " 23   22         1565 non-null   float64\n",
      " 24   23         1565 non-null   float64\n",
      " 25   24         1565 non-null   float64\n",
      " 26   25         1565 non-null   float64\n",
      " 27   26         1565 non-null   float64\n",
      " 28   27         1565 non-null   float64\n",
      " 29   28         1565 non-null   float64\n",
      " 30   29         1565 non-null   float64\n",
      " 31   30         1565 non-null   float64\n",
      " 32   31         1565 non-null   float64\n",
      " 33   32         1566 non-null   float64\n",
      " 34   33         1566 non-null   float64\n",
      " 35   34         1566 non-null   float64\n",
      " 36   35         1566 non-null   float64\n",
      " 37   36         1566 non-null   float64\n",
      " 38   37         1566 non-null   float64\n",
      " 39   38         1566 non-null   float64\n",
      " 40   39         1566 non-null   float64\n",
      " 41   40         1543 non-null   float64\n",
      " 42   41         1543 non-null   float64\n",
      " 43   42         1566 non-null   float64\n",
      " 44   43         1566 non-null   float64\n",
      " 45   44         1566 non-null   float64\n",
      " 46   45         1566 non-null   float64\n",
      " 47   46         1566 non-null   float64\n",
      " 48   47         1566 non-null   float64\n",
      " 49   48         1566 non-null   float64\n",
      " 50   49         1566 non-null   float64\n",
      " 51   50         1566 non-null   float64\n",
      " 52   51         1566 non-null   float64\n",
      " 53   52         1566 non-null   float64\n",
      " 54   53         1563 non-null   float64\n",
      " 55   54         1563 non-null   float64\n",
      " 56   55         1563 non-null   float64\n",
      " 57   56         1563 non-null   float64\n",
      " 58   57         1563 non-null   float64\n",
      " 59   58         1563 non-null   float64\n",
      " 60   59         1560 non-null   float64\n",
      " 61   60         1561 non-null   float64\n",
      " 62   61         1561 non-null   float64\n",
      " 63   62         1561 non-null   float64\n",
      " 64   63         1560 non-null   float64\n",
      " 65   64         1560 non-null   float64\n",
      " 66   65         1560 non-null   float64\n",
      " 67   66         1561 non-null   float64\n",
      " 68   67         1561 non-null   float64\n",
      " 69   68         1561 non-null   float64\n",
      " 70   69         1561 non-null   float64\n",
      " 71   70         1561 non-null   float64\n",
      " 72   71         1561 non-null   float64\n",
      " 73   72         773 non-null    float64\n",
      " 74   73         773 non-null    float64\n",
      " 75   74         1561 non-null   float64\n",
      " 76   75         1543 non-null   float64\n",
      " 77   76         1543 non-null   float64\n",
      " 78   77         1543 non-null   float64\n",
      " 79   78         1543 non-null   float64\n",
      " 80   79         1543 non-null   float64\n",
      " 81   80         1543 non-null   float64\n",
      " 82   81         1543 non-null   float64\n",
      " 83   82         1543 non-null   float64\n",
      " 84   83         1566 non-null   float64\n",
      " 85   84         1555 non-null   float64\n",
      " 86   85         226 non-null    float64\n",
      " 87   86         1567 non-null   float64\n",
      " 88   87         1567 non-null   float64\n",
      " 89   88         1567 non-null   float64\n",
      " 90   89         1516 non-null   float64\n",
      " 91   90         1516 non-null   float64\n",
      " 92   91         1561 non-null   float64\n",
      " 93   92         1565 non-null   float64\n",
      " 94   93         1565 non-null   float64\n",
      " 95   94         1561 non-null   float64\n",
      " 96   95         1561 non-null   float64\n",
      " 97   96         1561 non-null   float64\n",
      " 98   97         1561 non-null   float64\n",
      " 99   98         1561 non-null   float64\n",
      " 100  99         1561 non-null   float64\n",
      " 101  100        1561 non-null   float64\n",
      " 102  101        1561 non-null   float64\n",
      " 103  102        1561 non-null   float64\n",
      " 104  103        1565 non-null   float64\n",
      " 105  104        1565 non-null   float64\n",
      " 106  105        1561 non-null   float64\n",
      " 107  106        1561 non-null   float64\n",
      " 108  107        1561 non-null   float64\n",
      " 109  108        1561 non-null   float64\n",
      " 110  109        549 non-null    float64\n",
      " 111  110        549 non-null    float64\n",
      " 112  111        549 non-null    float64\n",
      " 113  112        852 non-null    float64\n",
      " 114  113        1567 non-null   float64\n",
      " 115  114        1567 non-null   float64\n",
      " 116  115        1567 non-null   float64\n",
      " 117  116        1567 non-null   float64\n",
      " 118  117        1567 non-null   float64\n",
      " 119  118        1543 non-null   float64\n",
      " 120  119        1567 non-null   float64\n",
      " 121  120        1567 non-null   float64\n",
      " 122  121        1558 non-null   float64\n",
      " 123  122        1558 non-null   float64\n",
      " 124  123        1558 non-null   float64\n",
      " 125  124        1558 non-null   float64\n",
      " 126  125        1558 non-null   float64\n",
      " 127  126        1558 non-null   float64\n",
      " 128  127        1558 non-null   float64\n",
      " 129  128        1558 non-null   float64\n",
      " 130  129        1558 non-null   float64\n",
      " 131  130        1558 non-null   float64\n",
      " 132  131        1558 non-null   float64\n",
      " 133  132        1559 non-null   float64\n",
      " 134  133        1559 non-null   float64\n",
      " 135  134        1559 non-null   float64\n",
      " 136  135        1562 non-null   float64\n",
      " 137  136        1561 non-null   float64\n",
      " 138  137        1560 non-null   float64\n",
      " 139  138        1553 non-null   float64\n",
      " 140  139        1553 non-null   float64\n",
      " 141  140        1553 non-null   float64\n",
      " 142  141        1553 non-null   float64\n",
      " 143  142        1553 non-null   float64\n",
      " 144  143        1558 non-null   float64\n",
      " 145  144        1565 non-null   float64\n",
      " 146  145        1565 non-null   float64\n",
      " 147  146        1565 non-null   float64\n",
      " 148  147        1565 non-null   float64\n",
      " 149  148        1565 non-null   float64\n",
      " 150  149        1564 non-null   float64\n",
      " 151  150        1564 non-null   float64\n",
      " 152  151        1564 non-null   float64\n",
      " 153  152        1564 non-null   float64\n",
      " 154  153        1564 non-null   float64\n",
      " 155  154        1564 non-null   float64\n",
      " 156  155        1557 non-null   float64\n",
      " 157  156        1567 non-null   float64\n",
      " 158  157        138 non-null    float64\n",
      " 159  158        138 non-null    float64\n",
      " 160  159        1565 non-null   float64\n",
      " 161  160        1565 non-null   float64\n",
      " 162  161        1565 non-null   float64\n",
      " 163  162        1565 non-null   float64\n",
      " 164  163        1565 non-null   float64\n",
      " 165  164        1565 non-null   float64\n",
      " 166  165        1565 non-null   float64\n",
      " 167  166        1565 non-null   float64\n",
      " 168  167        1565 non-null   float64\n",
      " 169  168        1565 non-null   float64\n",
      " 170  169        1565 non-null   float64\n",
      " 171  170        1566 non-null   float64\n",
      " 172  171        1566 non-null   float64\n",
      " 173  172        1566 non-null   float64\n",
      " 174  173        1566 non-null   float64\n",
      " 175  174        1566 non-null   float64\n",
      " 176  175        1566 non-null   float64\n",
      " 177  176        1566 non-null   float64\n",
      " 178  177        1566 non-null   float64\n",
      " 179  178        1543 non-null   float64\n",
      " 180  179        1566 non-null   float64\n",
      " 181  180        1566 non-null   float64\n",
      " 182  181        1566 non-null   float64\n",
      " 183  182        1566 non-null   float64\n",
      " 184  183        1566 non-null   float64\n",
      " 185  184        1566 non-null   float64\n",
      " 186  185        1566 non-null   float64\n",
      " 187  186        1566 non-null   float64\n",
      " 188  187        1566 non-null   float64\n",
      " 189  188        1566 non-null   float64\n",
      " 190  189        1566 non-null   float64\n",
      " 191  190        1563 non-null   float64\n",
      " 192  191        1563 non-null   float64\n",
      " 193  192        1563 non-null   float64\n",
      " 194  193        1563 non-null   float64\n",
      " 195  194        1563 non-null   float64\n",
      " 196  195        1563 non-null   float64\n",
      " 197  196        1560 non-null   float64\n",
      " 198  197        1561 non-null   float64\n",
      " 199  198        1561 non-null   float64\n",
      " 200  199        1561 non-null   float64\n",
      " 201  200        1560 non-null   float64\n",
      " 202  201        1560 non-null   float64\n",
      " 203  202        1560 non-null   float64\n",
      " 204  203        1561 non-null   float64\n",
      " 205  204        1561 non-null   float64\n",
      " 206  205        1561 non-null   float64\n",
      " 207  206        1561 non-null   float64\n",
      " 208  207        1561 non-null   float64\n",
      " 209  208        1561 non-null   float64\n",
      " 210  209        1561 non-null   float64\n",
      " 211  210        1543 non-null   float64\n",
      " 212  211        1543 non-null   float64\n",
      " 213  212        1543 non-null   float64\n",
      " 214  213        1543 non-null   float64\n",
      " 215  214        1543 non-null   float64\n",
      " 216  215        1543 non-null   float64\n",
      " 217  216        1543 non-null   float64\n",
      " 218  217        1543 non-null   float64\n",
      " 219  218        1566 non-null   float64\n",
      " 220  219        1555 non-null   float64\n",
      " 221  220        226 non-null    float64\n",
      " 222  221        1567 non-null   float64\n",
      " 223  222        1567 non-null   float64\n",
      " 224  223        1567 non-null   float64\n",
      " 225  224        1516 non-null   float64\n",
      " 226  225        1516 non-null   float64\n",
      " 227  226        1561 non-null   float64\n",
      " 228  227        1565 non-null   float64\n",
      " 229  228        1565 non-null   float64\n",
      " 230  229        1561 non-null   float64\n",
      " 231  230        1561 non-null   float64\n",
      " 232  231        1561 non-null   float64\n",
      " 233  232        1561 non-null   float64\n",
      " 234  233        1561 non-null   float64\n",
      " 235  234        1561 non-null   float64\n",
      " 236  235        1561 non-null   float64\n",
      " 237  236        1561 non-null   float64\n",
      " 238  237        1561 non-null   float64\n",
      " 239  238        1565 non-null   float64\n",
      " 240  239        1565 non-null   float64\n",
      " 241  240        1561 non-null   float64\n",
      " 242  241        1561 non-null   float64\n",
      " 243  242        1561 non-null   float64\n",
      " 244  243        1561 non-null   float64\n",
      " 245  244        549 non-null    float64\n",
      " 246  245        549 non-null    float64\n",
      " 247  246        549 non-null    float64\n",
      " 248  247        852 non-null    float64\n",
      " 249  248        1567 non-null   float64\n",
      " 250  249        1567 non-null   float64\n",
      " 251  250        1567 non-null   float64\n",
      " 252  251        1567 non-null   float64\n",
      " 253  252        1567 non-null   float64\n",
      " 254  253        1543 non-null   float64\n",
      " 255  254        1567 non-null   float64\n",
      " 256  255        1567 non-null   float64\n",
      " 257  256        1558 non-null   float64\n",
      " 258  257        1558 non-null   float64\n",
      " 259  258        1558 non-null   float64\n",
      " 260  259        1558 non-null   float64\n",
      " 261  260        1558 non-null   float64\n",
      " 262  261        1558 non-null   float64\n",
      " 263  262        1558 non-null   float64\n",
      " 264  263        1558 non-null   float64\n",
      " 265  264        1558 non-null   float64\n",
      " 266  265        1558 non-null   float64\n",
      " 267  266        1558 non-null   float64\n",
      " 268  267        1559 non-null   float64\n",
      " 269  268        1559 non-null   float64\n",
      " 270  269        1559 non-null   float64\n",
      " 271  270        1562 non-null   float64\n",
      " 272  271        1561 non-null   float64\n",
      " 273  272        1560 non-null   float64\n",
      " 274  273        1553 non-null   float64\n",
      " 275  274        1553 non-null   float64\n",
      " 276  275        1553 non-null   float64\n",
      " 277  276        1553 non-null   float64\n",
      " 278  277        1553 non-null   float64\n",
      " 279  278        1558 non-null   float64\n",
      " 280  279        1565 non-null   float64\n",
      " 281  280        1565 non-null   float64\n",
      " 282  281        1565 non-null   float64\n",
      " 283  282        1565 non-null   float64\n",
      " 284  283        1565 non-null   float64\n",
      " 285  284        1564 non-null   float64\n",
      " 286  285        1564 non-null   float64\n",
      " 287  286        1564 non-null   float64\n",
      " 288  287        1564 non-null   float64\n",
      " 289  288        1564 non-null   float64\n",
      " 290  289        1564 non-null   float64\n",
      " 291  290        1557 non-null   float64\n",
      " 292  291        1567 non-null   float64\n",
      " 293  292        138 non-null    float64\n",
      " 294  293        138 non-null    float64\n",
      " 295  294        1565 non-null   float64\n",
      " 296  295        1565 non-null   float64\n",
      " 297  296        1565 non-null   float64\n",
      " 298  297        1565 non-null   float64\n",
      " 299  298        1565 non-null   float64\n",
      " 300  299        1565 non-null   float64\n",
      " 301  300        1565 non-null   float64\n",
      " 302  301        1565 non-null   float64\n",
      " 303  302        1565 non-null   float64\n",
      " 304  303        1565 non-null   float64\n",
      " 305  304        1565 non-null   float64\n",
      " 306  305        1566 non-null   float64\n",
      " 307  306        1566 non-null   float64\n",
      " 308  307        1566 non-null   float64\n",
      " 309  308        1566 non-null   float64\n",
      " 310  309        1566 non-null   float64\n",
      " 311  310        1566 non-null   float64\n",
      " 312  311        1566 non-null   float64\n",
      " 313  312        1566 non-null   float64\n",
      " 314  313        1543 non-null   float64\n",
      " 315  314        1543 non-null   float64\n",
      " 316  315        1566 non-null   float64\n",
      " 317  316        1566 non-null   float64\n",
      " 318  317        1566 non-null   float64\n",
      " 319  318        1566 non-null   float64\n",
      " 320  319        1566 non-null   float64\n",
      " 321  320        1566 non-null   float64\n",
      " 322  321        1566 non-null   float64\n",
      " 323  322        1566 non-null   float64\n",
      " 324  323        1566 non-null   float64\n",
      " 325  324        1566 non-null   float64\n",
      " 326  325        1566 non-null   float64\n",
      " 327  326        1563 non-null   float64\n",
      " 328  327        1563 non-null   float64\n",
      " 329  328        1563 non-null   float64\n",
      " 330  329        1563 non-null   float64\n",
      " 331  330        1563 non-null   float64\n",
      " 332  331        1563 non-null   float64\n",
      " 333  332        1560 non-null   float64\n",
      " 334  333        1561 non-null   float64\n",
      " 335  334        1561 non-null   float64\n",
      " 336  335        1561 non-null   float64\n",
      " 337  336        1560 non-null   float64\n",
      " 338  337        1560 non-null   float64\n",
      " 339  338        1560 non-null   float64\n",
      " 340  339        1561 non-null   float64\n",
      " 341  340        1561 non-null   float64\n",
      " 342  341        1561 non-null   float64\n",
      " 343  342        1561 non-null   float64\n",
      " 344  343        1561 non-null   float64\n",
      " 345  344        1561 non-null   float64\n",
      " 346  345        773 non-null    float64\n",
      " 347  346        773 non-null    float64\n",
      " 348  347        1561 non-null   float64\n",
      " 349  348        1543 non-null   float64\n",
      " 350  349        1543 non-null   float64\n",
      " 351  350        1543 non-null   float64\n",
      " 352  351        1543 non-null   float64\n",
      " 353  352        1543 non-null   float64\n",
      " 354  353        1543 non-null   float64\n",
      " 355  354        1543 non-null   float64\n",
      " 356  355        1543 non-null   float64\n",
      " 357  356        1566 non-null   float64\n",
      " 358  357        1555 non-null   float64\n",
      " 359  358        226 non-null    float64\n",
      " 360  359        1567 non-null   float64\n",
      " 361  360        1567 non-null   float64\n",
      " 362  361        1567 non-null   float64\n",
      " 363  362        1516 non-null   float64\n",
      " 364  363        1516 non-null   float64\n",
      " 365  364        1561 non-null   float64\n",
      " 366  365        1565 non-null   float64\n",
      " 367  366        1565 non-null   float64\n",
      " 368  367        1561 non-null   float64\n",
      " 369  368        1561 non-null   float64\n",
      " 370  369        1561 non-null   float64\n",
      " 371  370        1561 non-null   float64\n",
      " 372  371        1561 non-null   float64\n",
      " 373  372        1561 non-null   float64\n",
      " 374  373        1561 non-null   float64\n",
      " 375  374        1561 non-null   float64\n",
      " 376  375        1561 non-null   float64\n",
      " 377  376        1565 non-null   float64\n",
      " 378  377        1565 non-null   float64\n",
      " 379  378        1561 non-null   float64\n",
      " 380  379        1561 non-null   float64\n",
      " 381  380        1561 non-null   float64\n",
      " 382  381        1561 non-null   float64\n",
      " 383  382        549 non-null    float64\n",
      " 384  383        549 non-null    float64\n",
      " 385  384        549 non-null    float64\n",
      " 386  385        852 non-null    float64\n",
      " 387  386        1567 non-null   float64\n",
      " 388  387        1567 non-null   float64\n",
      " 389  388        1567 non-null   float64\n",
      " 390  389        1567 non-null   float64\n",
      " 391  390        1567 non-null   float64\n",
      " 392  391        1543 non-null   float64\n",
      " 393  392        1567 non-null   float64\n",
      " 394  393        1567 non-null   float64\n",
      " 395  394        1558 non-null   float64\n",
      " 396  395        1558 non-null   float64\n",
      " 397  396        1558 non-null   float64\n",
      " 398  397        1558 non-null   float64\n",
      " 399  398        1558 non-null   float64\n",
      " 400  399        1558 non-null   float64\n",
      " 401  400        1558 non-null   float64\n",
      " 402  401        1558 non-null   float64\n",
      " 403  402        1558 non-null   float64\n",
      " 404  403        1558 non-null   float64\n",
      " 405  404        1558 non-null   float64\n",
      " 406  405        1559 non-null   float64\n",
      " 407  406        1559 non-null   float64\n",
      " 408  407        1559 non-null   float64\n",
      " 409  408        1562 non-null   float64\n",
      " 410  409        1561 non-null   float64\n",
      " 411  410        1560 non-null   float64\n",
      " 412  411        1553 non-null   float64\n",
      " 413  412        1553 non-null   float64\n",
      " 414  413        1553 non-null   float64\n",
      " 415  414        1553 non-null   float64\n",
      " 416  415        1553 non-null   float64\n",
      " 417  416        1558 non-null   float64\n",
      " 418  417        1565 non-null   float64\n",
      " 419  418        1565 non-null   float64\n",
      " 420  419        1565 non-null   float64\n",
      " 421  420        1565 non-null   float64\n",
      " 422  421        1565 non-null   float64\n",
      " 423  422        1564 non-null   float64\n",
      " 424  423        1564 non-null   float64\n",
      " 425  424        1564 non-null   float64\n",
      " 426  425        1564 non-null   float64\n",
      " 427  426        1564 non-null   float64\n",
      " 428  427        1564 non-null   float64\n",
      " 429  428        1557 non-null   float64\n",
      " 430  429        1567 non-null   float64\n",
      " 431  430        1565 non-null   float64\n",
      " 432  431        1565 non-null   float64\n",
      " 433  432        1565 non-null   float64\n",
      " 434  433        1565 non-null   float64\n",
      " 435  434        1565 non-null   float64\n",
      " 436  435        1565 non-null   float64\n",
      " 437  436        1565 non-null   float64\n",
      " 438  437        1565 non-null   float64\n",
      " 439  438        1565 non-null   float64\n",
      " 440  439        1565 non-null   float64\n",
      " 441  440        1565 non-null   float64\n",
      " 442  441        1566 non-null   float64\n",
      " 443  442        1566 non-null   float64\n",
      " 444  443        1566 non-null   float64\n",
      " 445  444        1566 non-null   float64\n",
      " 446  445        1566 non-null   float64\n",
      " 447  446        1566 non-null   float64\n",
      " 448  447        1566 non-null   float64\n",
      " 449  448        1566 non-null   float64\n",
      " 450  449        1543 non-null   float64\n",
      " 451  450        1543 non-null   float64\n",
      " 452  451        1566 non-null   float64\n",
      " 453  452        1566 non-null   float64\n",
      " 454  453        1566 non-null   float64\n",
      " 455  454        1566 non-null   float64\n",
      " 456  455        1566 non-null   float64\n",
      " 457  456        1566 non-null   float64\n",
      " 458  457        1566 non-null   float64\n",
      " 459  458        1566 non-null   float64\n",
      " 460  459        1566 non-null   float64\n",
      " 461  460        1566 non-null   float64\n",
      " 462  461        1566 non-null   float64\n",
      " 463  462        1563 non-null   float64\n",
      " 464  463        1563 non-null   float64\n",
      " 465  464        1563 non-null   float64\n",
      " 466  465        1563 non-null   float64\n",
      " 467  466        1563 non-null   float64\n",
      " 468  467        1563 non-null   float64\n",
      " 469  468        1560 non-null   float64\n",
      " 470  469        1561 non-null   float64\n",
      " 471  470        1561 non-null   float64\n",
      " 472  471        1561 non-null   float64\n",
      " 473  472        1560 non-null   float64\n",
      " 474  473        1560 non-null   float64\n",
      " 475  474        1560 non-null   float64\n",
      " 476  475        1561 non-null   float64\n",
      " 477  476        1561 non-null   float64\n",
      " 478  477        1561 non-null   float64\n",
      " 479  478        1561 non-null   float64\n",
      " 480  479        1561 non-null   float64\n",
      " 481  480        1561 non-null   float64\n",
      " 482  481        1561 non-null   float64\n",
      " 483  482        1543 non-null   float64\n",
      " 484  483        1543 non-null   float64\n",
      " 485  484        1543 non-null   float64\n",
      " 486  485        1543 non-null   float64\n",
      " 487  486        1543 non-null   float64\n",
      " 488  487        1543 non-null   float64\n",
      " 489  488        1543 non-null   float64\n",
      " 490  489        1543 non-null   float64\n",
      " 491  490        1566 non-null   float64\n",
      " 492  491        1555 non-null   float64\n",
      " 493  492        226 non-null    float64\n",
      " 494  493        1567 non-null   float64\n",
      " 495  494        1567 non-null   float64\n",
      " 496  495        1567 non-null   float64\n",
      " 497  496        1516 non-null   float64\n",
      " 498  497        1516 non-null   float64\n",
      " 499  498        1561 non-null   float64\n",
      " 500  499        1565 non-null   float64\n",
      " 501  500        1565 non-null   float64\n",
      " 502  501        1561 non-null   float64\n",
      " 503  502        1561 non-null   float64\n",
      " 504  503        1561 non-null   float64\n",
      " 505  504        1561 non-null   float64\n",
      " 506  505        1561 non-null   float64\n",
      " 507  506        1561 non-null   float64\n",
      " 508  507        1561 non-null   float64\n",
      " 509  508        1561 non-null   float64\n",
      " 510  509        1561 non-null   float64\n",
      " 511  510        1565 non-null   float64\n",
      " 512  511        1565 non-null   float64\n",
      " 513  512        1561 non-null   float64\n",
      " 514  513        1561 non-null   float64\n",
      " 515  514        1561 non-null   float64\n",
      " 516  515        1561 non-null   float64\n",
      " 517  516        549 non-null    float64\n",
      " 518  517        549 non-null    float64\n",
      " 519  518        549 non-null    float64\n",
      " 520  519        852 non-null    float64\n",
      " 521  520        1567 non-null   float64\n",
      " 522  521        1567 non-null   float64\n",
      " 523  522        1567 non-null   float64\n",
      " 524  523        1567 non-null   float64\n",
      " 525  524        1567 non-null   float64\n",
      " 526  525        1543 non-null   float64\n",
      " 527  526        1567 non-null   float64\n",
      " 528  527        1567 non-null   float64\n",
      " 529  528        1558 non-null   float64\n",
      " 530  529        1558 non-null   float64\n",
      " 531  530        1558 non-null   float64\n",
      " 532  531        1558 non-null   float64\n",
      " 533  532        1558 non-null   float64\n",
      " 534  533        1558 non-null   float64\n",
      " 535  534        1558 non-null   float64\n",
      " 536  535        1558 non-null   float64\n",
      " 537  536        1558 non-null   float64\n",
      " 538  537        1558 non-null   float64\n",
      " 539  538        1558 non-null   float64\n",
      " 540  539        1559 non-null   float64\n",
      " 541  540        1559 non-null   float64\n",
      " 542  541        1559 non-null   float64\n",
      " 543  542        1565 non-null   float64\n",
      " 544  543        1565 non-null   float64\n",
      " 545  544        1565 non-null   float64\n",
      " 546  545        1565 non-null   float64\n",
      " 547  546        1307 non-null   float64\n",
      " 548  547        1307 non-null   float64\n",
      " 549  548        1307 non-null   float64\n",
      " 550  549        1307 non-null   float64\n",
      " 551  550        1307 non-null   float64\n",
      " 552  551        1307 non-null   float64\n",
      " 553  552        1307 non-null   float64\n",
      " 554  553        1307 non-null   float64\n",
      " 555  554        1307 non-null   float64\n",
      " 556  555        1307 non-null   float64\n",
      " 557  556        1307 non-null   float64\n",
      " 558  557        1307 non-null   float64\n",
      " 559  558        1566 non-null   float64\n",
      " 560  559        1566 non-null   float64\n",
      " 561  560        1566 non-null   float64\n",
      " 562  561        1566 non-null   float64\n",
      " 563  562        1294 non-null   float64\n",
      " 564  563        1294 non-null   float64\n",
      " 565  564        1294 non-null   float64\n",
      " 566  565        1294 non-null   float64\n",
      " 567  566        1294 non-null   float64\n",
      " 568  567        1294 non-null   float64\n",
      " 569  568        1294 non-null   float64\n",
      " 570  569        1294 non-null   float64\n",
      " 571  570        1567 non-null   float64\n",
      " 572  571        1567 non-null   float64\n",
      " 573  572        1567 non-null   float64\n",
      " 574  573        1567 non-null   float64\n",
      " 575  574        1567 non-null   float64\n",
      " 576  575        1567 non-null   float64\n",
      " 577  576        1567 non-null   float64\n",
      " 578  577        1567 non-null   float64\n",
      " 579  578        618 non-null    float64\n",
      " 580  579        618 non-null    float64\n",
      " 581  580        618 non-null    float64\n",
      " 582  581        618 non-null    float64\n",
      " 583  582        1566 non-null   float64\n",
      " 584  583        1566 non-null   float64\n",
      " 585  584        1566 non-null   float64\n",
      " 586  585        1566 non-null   float64\n",
      " 587  586        1566 non-null   float64\n",
      " 588  587        1566 non-null   float64\n",
      " 589  588        1566 non-null   float64\n",
      " 590  589        1566 non-null   float64\n",
      " 591  Pass/Fail  1567 non-null   int64  \n",
      "dtypes: float64(590), int64(1), object(1)\n",
      "memory usage: 7.1+ MB\n"
     ]
    }
   ],
   "source": [
    "# 코드를 입력해 주세요\n",
    "data.info(verbose=True, show_counts=True)"
   ]
  },
  {
   "cell_type": "markdown",
   "metadata": {},
   "source": [
    "* 결측치를 0으로 채운 후 전체 결측치 개수를 출력하세요"
   ]
  },
  {
   "cell_type": "code",
   "execution_count": 9,
   "metadata": {
    "_uuid": "02c9f7ba9ca23a207975117fb3d65c0302c8e8d5"
   },
   "outputs": [
    {
     "data": {
      "text/plain": [
       "0"
      ]
     },
     "execution_count": 9,
     "metadata": {},
     "output_type": "execute_result"
    }
   ],
   "source": [
    "# 코드를 입력해 주세요\n",
    "data = data.fillna(0)\n",
    "data.isna().sum().sum()"
   ]
  },
  {
   "cell_type": "markdown",
   "metadata": {},
   "source": [
    "### 추가 데이터 처리"
   ]
  },
  {
   "cell_type": "markdown",
   "metadata": {},
   "source": [
    "* 불필요한 'Time' 열을 삭제한 후 크기(Shape)를 조회하세요"
   ]
  },
  {
   "cell_type": "code",
   "execution_count": 10,
   "metadata": {
    "_uuid": "566c012436034d57114ddcdee44761af2252027f",
    "scrolled": true
   },
   "outputs": [
    {
     "data": {
      "text/plain": [
       "(1567, 591)"
      ]
     },
     "execution_count": 10,
     "metadata": {},
     "output_type": "execute_result"
    }
   ],
   "source": [
    "# 코드를 입력해 주세요\n",
    "data = data.drop('Time',axis=1)\n",
    "data.shape"
   ]
  },
  {
   "cell_type": "markdown",
   "metadata": {},
   "source": [
    "### ML"
   ]
  },
  {
   "cell_type": "markdown",
   "metadata": {},
   "source": [
    "* 학습을 위해 x와 y를 추출하세요\n",
    "* y는 'Pass/Fail' 열이고, x는 'Pass/Fail'을 제외한 나머지 열입니다."
   ]
  },
  {
   "cell_type": "code",
   "execution_count": 11,
   "metadata": {
    "_uuid": "e31d7c24b5aee355d9b3fe585e9a7b39a0b370b9"
   },
   "outputs": [
    {
     "name": "stdout",
     "output_type": "stream",
     "text": [
      "shape of x: (1567, 590)\n",
      "shape of y: (1567,)\n"
     ]
    }
   ],
   "source": [
    "# 코드를 입력해 주세요\n",
    "x=data.iloc[:, :-1]\n",
    "y=data.iloc[:, -1]\n",
    "print(\"shape of x:\", x.shape)\n",
    "print(\"shape of y:\", y.shape)"
   ]
  },
  {
   "cell_type": "markdown",
   "metadata": {},
   "source": [
    "* X 데이터에 대해 Standard Scaling (표준화)를 적용하세요"
   ]
  },
  {
   "cell_type": "code",
   "execution_count": 12,
   "metadata": {},
   "outputs": [],
   "source": [
    "# 코드를 입력해 주세요\n",
    "from sklearn.preprocessing import StandardScaler\n",
    "x_scaled = StandardScaler().fit_transform(x)"
   ]
  },
  {
   "cell_type": "markdown",
   "metadata": {},
   "source": [
    "* 표준화된 X 데이터를 train과 test로 분할하세요\n",
    "* 비율은 8:2로 지정합니다. (test_size = 0.2)\n",
    "* 층화 추출을 설정하세요 (stratify=y)"
   ]
  },
  {
   "cell_type": "code",
   "execution_count": 13,
   "metadata": {
    "_uuid": "db5c557cd76c704581c69d50e232bc427c371e13"
   },
   "outputs": [
    {
     "name": "stdout",
     "output_type": "stream",
     "text": [
      "shape of x_train: (1253, 590)\n",
      "shape of x_test: (314, 590)\n",
      "shape of y_train: (1253,)\n",
      "shape of y_test: (314,)\n"
     ]
    }
   ],
   "source": [
    "# 코드를 입력해 주세요\n",
    "from sklearn.model_selection import train_test_split\n",
    "\n",
    "X_train, X_test, y_train, y_test  = train_test_split(x_scaled, y ,test_size = 0.2,\n",
    "                                                     random_state=0, stratify=y )\n",
    "\n",
    "print(\"shape of x_train:\", X_train.shape)\n",
    "print(\"shape of x_test:\", X_test.shape)\n",
    "print(\"shape of y_train:\", y_train.shape)\n",
    "print(\"shape of y_test:\", y_test.shape)"
   ]
  },
  {
   "cell_type": "markdown",
   "metadata": {},
   "source": [
    "* 로지스틱 회귀 알고리즘을 적용하고 score를 출력하세요\n",
    "* max_iter=1000"
   ]
  },
  {
   "cell_type": "code",
   "execution_count": 14,
   "metadata": {
    "_uuid": "dff1d8489f8956ada9eaa1b839c8229621fe109c"
   },
   "outputs": [
    {
     "name": "stdout",
     "output_type": "stream",
     "text": [
      "train : 0.989, test : 0.889\n"
     ]
    }
   ],
   "source": [
    "# 코드를 입력해 주세요\n",
    "from sklearn.linear_model import LogisticRegression\n",
    "lg = LogisticRegression(max_iter=1000).fit(X_train,y_train)\n",
    "print('train : {:.3f}, test : {:.3f}' .format(lg.score(X_train,y_train),\n",
    "                                              lg.score(X_test,y_test)))"
   ]
  },
  {
   "cell_type": "markdown",
   "metadata": {},
   "source": [
    "* 학습된 모델을 이용하여 x_test 데이터에 결과를 예측하고 출력하세요"
   ]
  },
  {
   "cell_type": "code",
   "execution_count": 15,
   "metadata": {},
   "outputs": [
    {
     "name": "stdout",
     "output_type": "stream",
     "text": [
      "y_pred [-1  1 -1 -1 -1 -1 -1 -1 -1 -1 -1 -1 -1 -1 -1 -1 -1 -1 -1 -1 -1 -1 -1 -1\n",
      " -1 -1 -1 -1 -1 -1 -1 -1 -1 -1 -1 -1 -1 -1 -1 -1 -1 -1 -1 -1 -1 -1  1 -1\n",
      " -1 -1 -1 -1 -1 -1 -1 -1 -1 -1 -1 -1 -1 -1 -1 -1 -1 -1 -1  1 -1 -1 -1 -1\n",
      "  1 -1 -1 -1 -1  1 -1 -1 -1  1 -1 -1 -1 -1 -1 -1 -1 -1 -1 -1 -1 -1 -1 -1\n",
      " -1  1 -1 -1 -1 -1 -1 -1 -1 -1 -1 -1 -1 -1 -1 -1 -1 -1 -1 -1 -1 -1 -1  1\n",
      " -1 -1 -1 -1 -1  1 -1 -1 -1 -1 -1 -1 -1 -1 -1 -1 -1 -1 -1 -1 -1  1 -1 -1\n",
      " -1 -1 -1 -1 -1 -1 -1 -1 -1 -1 -1 -1 -1 -1 -1 -1 -1 -1 -1 -1  1 -1 -1 -1\n",
      " -1 -1 -1 -1 -1 -1 -1 -1 -1 -1 -1 -1 -1 -1 -1 -1 -1 -1 -1 -1 -1 -1 -1 -1\n",
      " -1 -1 -1 -1 -1 -1 -1  1 -1 -1 -1 -1 -1 -1 -1 -1 -1 -1 -1 -1 -1 -1 -1 -1\n",
      " -1 -1 -1 -1 -1 -1 -1 -1 -1 -1 -1 -1 -1 -1 -1 -1 -1 -1 -1 -1 -1 -1 -1 -1\n",
      " -1 -1  1 -1 -1 -1 -1 -1 -1 -1 -1 -1  1 -1 -1 -1 -1 -1 -1 -1  1 -1 -1 -1\n",
      " -1 -1 -1 -1 -1 -1 -1 -1 -1  1  1 -1 -1 -1 -1 -1 -1 -1  1 -1 -1 -1  1  1\n",
      " -1 -1  1 -1 -1 -1  1 -1 -1 -1 -1 -1 -1 -1 -1 -1 -1 -1 -1 -1 -1 -1 -1 -1\n",
      " -1 -1]\n"
     ]
    }
   ],
   "source": [
    "# 코드를 입력해 주세요\n",
    "y_pred = lg.predict(X_test)\n",
    "print(\"y_pred\",y_pred)"
   ]
  },
  {
   "cell_type": "markdown",
   "metadata": {},
   "source": [
    "- x_test 데이터에 대해 classification_report 결과를 출력하세요."
   ]
  },
  {
   "cell_type": "code",
   "execution_count": 16,
   "metadata": {},
   "outputs": [
    {
     "name": "stdout",
     "output_type": "stream",
     "text": [
      "              precision    recall  f1-score   support\n",
      "\n",
      "          -1       0.94      0.94      0.94       293\n",
      "           1       0.18      0.19      0.19        21\n",
      "\n",
      "    accuracy                           0.89       314\n",
      "   macro avg       0.56      0.56      0.56       314\n",
      "weighted avg       0.89      0.89      0.89       314\n",
      "\n"
     ]
    }
   ],
   "source": [
    "# 코드를 입력해 주세요\n",
    "from sklearn.metrics import classification_report\n",
    "print(classification_report(y_test, y_pred))"
   ]
  }
 ],
 "metadata": {
  "kernelspec": {
   "display_name": "Python 3 (ipykernel)",
   "language": "python",
   "name": "python3"
  },
  "language_info": {
   "codemirror_mode": {
    "name": "ipython",
    "version": 3
   },
   "file_extension": ".py",
   "mimetype": "text/x-python",
   "name": "python",
   "nbconvert_exporter": "python",
   "pygments_lexer": "ipython3",
   "version": "3.10.10"
  },
  "toc": {
   "base_numbering": 1,
   "nav_menu": {},
   "number_sections": true,
   "sideBar": true,
   "skip_h1_title": false,
   "title_cell": "Table of Contents",
   "title_sidebar": "Contents",
   "toc_cell": false,
   "toc_position": {},
   "toc_section_display": true,
   "toc_window_display": false
  },
  "vscode": {
   "interpreter": {
    "hash": "40d3a090f54c6569ab1632332b64b2c03c39dcf918b08424e98f38b5ae0af88f"
   }
  }
 },
 "nbformat": 4,
 "nbformat_minor": 1
}
