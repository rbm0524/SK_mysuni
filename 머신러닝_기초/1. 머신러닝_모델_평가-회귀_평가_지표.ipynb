{
 "cells": [
  {
   "cell_type": "markdown",
   "id": "4d339033",
   "metadata": {},
   "source": [
    "# 회귀 (Regression)\n",
    "- 독립변수(특성)과 종속변수(레이블)간 관계를 모델링하는 방법\n",
    "- 레이블 또는  타겟이 연속형일때 사용\n",
    "- 독립변수와 종속변수의 관계를 기반으로 최적의 회귀 계수를 찾음|"
   ]
  },
  {
   "cell_type": "code",
   "execution_count": 1,
   "id": "e4b78aeb",
   "metadata": {
    "scrolled": true
   },
   "outputs": [
    {
     "data": {
      "text/html": [
       "<div>\n",
       "<style scoped>\n",
       "    .dataframe tbody tr th:only-of-type {\n",
       "        vertical-align: middle;\n",
       "    }\n",
       "\n",
       "    .dataframe tbody tr th {\n",
       "        vertical-align: top;\n",
       "    }\n",
       "\n",
       "    .dataframe thead th {\n",
       "        text-align: right;\n",
       "    }\n",
       "</style>\n",
       "<table border=\"1\" class=\"dataframe\">\n",
       "  <thead>\n",
       "    <tr style=\"text-align: right;\">\n",
       "      <th></th>\n",
       "      <th>실제값</th>\n",
       "      <th>예측값</th>\n",
       "    </tr>\n",
       "  </thead>\n",
       "  <tbody>\n",
       "    <tr>\n",
       "      <th>0</th>\n",
       "      <td>22.6</td>\n",
       "      <td>25.0</td>\n",
       "    </tr>\n",
       "    <tr>\n",
       "      <th>1</th>\n",
       "      <td>50.0</td>\n",
       "      <td>23.7</td>\n",
       "    </tr>\n",
       "    <tr>\n",
       "      <th>2</th>\n",
       "      <td>23.0</td>\n",
       "      <td>29.1</td>\n",
       "    </tr>\n",
       "    <tr>\n",
       "      <th>3</th>\n",
       "      <td>8.3</td>\n",
       "      <td>12.3</td>\n",
       "    </tr>\n",
       "    <tr>\n",
       "      <th>4</th>\n",
       "      <td>21.2</td>\n",
       "      <td>21.6</td>\n",
       "    </tr>\n",
       "    <tr>\n",
       "      <th>5</th>\n",
       "      <td>19.9</td>\n",
       "      <td>19.1</td>\n",
       "    </tr>\n",
       "    <tr>\n",
       "      <th>6</th>\n",
       "      <td>20.6</td>\n",
       "      <td>20.8</td>\n",
       "    </tr>\n",
       "    <tr>\n",
       "      <th>7</th>\n",
       "      <td>18.7</td>\n",
       "      <td>21.4</td>\n",
       "    </tr>\n",
       "    <tr>\n",
       "      <th>8</th>\n",
       "      <td>16.1</td>\n",
       "      <td>18.4</td>\n",
       "    </tr>\n",
       "    <tr>\n",
       "      <th>9</th>\n",
       "      <td>18.6</td>\n",
       "      <td>19.3</td>\n",
       "    </tr>\n",
       "    <tr>\n",
       "      <th>10</th>\n",
       "      <td>8.8</td>\n",
       "      <td>5.3</td>\n",
       "    </tr>\n",
       "    <tr>\n",
       "      <th>11</th>\n",
       "      <td>17.2</td>\n",
       "      <td>16.7</td>\n",
       "    </tr>\n",
       "    <tr>\n",
       "      <th>12</th>\n",
       "      <td>14.9</td>\n",
       "      <td>17.5</td>\n",
       "    </tr>\n",
       "    <tr>\n",
       "      <th>13</th>\n",
       "      <td>10.5</td>\n",
       "      <td>5.8</td>\n",
       "    </tr>\n",
       "    <tr>\n",
       "      <th>14</th>\n",
       "      <td>50.0</td>\n",
       "      <td>39.9</td>\n",
       "    </tr>\n",
       "    <tr>\n",
       "      <th>15</th>\n",
       "      <td>29.0</td>\n",
       "      <td>32.4</td>\n",
       "    </tr>\n",
       "    <tr>\n",
       "      <th>16</th>\n",
       "      <td>23.0</td>\n",
       "      <td>22.9</td>\n",
       "    </tr>\n",
       "    <tr>\n",
       "      <th>17</th>\n",
       "      <td>33.3</td>\n",
       "      <td>36.5</td>\n",
       "    </tr>\n",
       "    <tr>\n",
       "      <th>18</th>\n",
       "      <td>29.4</td>\n",
       "      <td>31.0</td>\n",
       "    </tr>\n",
       "    <tr>\n",
       "      <th>19</th>\n",
       "      <td>21.0</td>\n",
       "      <td>23.1</td>\n",
       "    </tr>\n",
       "    <tr>\n",
       "      <th>20</th>\n",
       "      <td>23.8</td>\n",
       "      <td>24.9</td>\n",
       "    </tr>\n",
       "    <tr>\n",
       "      <th>21</th>\n",
       "      <td>19.1</td>\n",
       "      <td>24.1</td>\n",
       "    </tr>\n",
       "    <tr>\n",
       "      <th>22</th>\n",
       "      <td>20.4</td>\n",
       "      <td>20.5</td>\n",
       "    </tr>\n",
       "    <tr>\n",
       "      <th>23</th>\n",
       "      <td>29.1</td>\n",
       "      <td>30.2</td>\n",
       "    </tr>\n",
       "    <tr>\n",
       "      <th>24</th>\n",
       "      <td>19.3</td>\n",
       "      <td>22.4</td>\n",
       "    </tr>\n",
       "    <tr>\n",
       "      <th>25</th>\n",
       "      <td>23.1</td>\n",
       "      <td>8.7</td>\n",
       "    </tr>\n",
       "    <tr>\n",
       "      <th>26</th>\n",
       "      <td>19.6</td>\n",
       "      <td>17.6</td>\n",
       "    </tr>\n",
       "    <tr>\n",
       "      <th>27</th>\n",
       "      <td>19.4</td>\n",
       "      <td>17.7</td>\n",
       "    </tr>\n",
       "    <tr>\n",
       "      <th>28</th>\n",
       "      <td>38.7</td>\n",
       "      <td>36.1</td>\n",
       "    </tr>\n",
       "    <tr>\n",
       "      <th>29</th>\n",
       "      <td>18.7</td>\n",
       "      <td>20.9</td>\n",
       "    </tr>\n",
       "    <tr>\n",
       "      <th>30</th>\n",
       "      <td>14.6</td>\n",
       "      <td>18.8</td>\n",
       "    </tr>\n",
       "    <tr>\n",
       "      <th>31</th>\n",
       "      <td>20.0</td>\n",
       "      <td>18.2</td>\n",
       "    </tr>\n",
       "    <tr>\n",
       "      <th>32</th>\n",
       "      <td>20.5</td>\n",
       "      <td>19.9</td>\n",
       "    </tr>\n",
       "    <tr>\n",
       "      <th>33</th>\n",
       "      <td>20.1</td>\n",
       "      <td>23.9</td>\n",
       "    </tr>\n",
       "    <tr>\n",
       "      <th>34</th>\n",
       "      <td>23.6</td>\n",
       "      <td>28.9</td>\n",
       "    </tr>\n",
       "    <tr>\n",
       "      <th>35</th>\n",
       "      <td>16.8</td>\n",
       "      <td>19.2</td>\n",
       "    </tr>\n",
       "    <tr>\n",
       "      <th>36</th>\n",
       "      <td>5.6</td>\n",
       "      <td>12.0</td>\n",
       "    </tr>\n",
       "    <tr>\n",
       "      <th>37</th>\n",
       "      <td>50.0</td>\n",
       "      <td>24.2</td>\n",
       "    </tr>\n",
       "    <tr>\n",
       "      <th>38</th>\n",
       "      <td>14.5</td>\n",
       "      <td>17.7</td>\n",
       "    </tr>\n",
       "    <tr>\n",
       "      <th>39</th>\n",
       "      <td>13.3</td>\n",
       "      <td>16.1</td>\n",
       "    </tr>\n",
       "    <tr>\n",
       "      <th>40</th>\n",
       "      <td>23.9</td>\n",
       "      <td>26.4</td>\n",
       "    </tr>\n",
       "    <tr>\n",
       "      <th>41</th>\n",
       "      <td>20.0</td>\n",
       "      <td>21.1</td>\n",
       "    </tr>\n",
       "    <tr>\n",
       "      <th>42</th>\n",
       "      <td>19.8</td>\n",
       "      <td>22.3</td>\n",
       "    </tr>\n",
       "    <tr>\n",
       "      <th>43</th>\n",
       "      <td>13.8</td>\n",
       "      <td>15.6</td>\n",
       "    </tr>\n",
       "    <tr>\n",
       "      <th>44</th>\n",
       "      <td>16.5</td>\n",
       "      <td>23.0</td>\n",
       "    </tr>\n",
       "    <tr>\n",
       "      <th>45</th>\n",
       "      <td>21.6</td>\n",
       "      <td>25.1</td>\n",
       "    </tr>\n",
       "    <tr>\n",
       "      <th>46</th>\n",
       "      <td>20.3</td>\n",
       "      <td>20.2</td>\n",
       "    </tr>\n",
       "    <tr>\n",
       "      <th>47</th>\n",
       "      <td>17.0</td>\n",
       "      <td>22.5</td>\n",
       "    </tr>\n",
       "    <tr>\n",
       "      <th>48</th>\n",
       "      <td>11.8</td>\n",
       "      <td>9.9</td>\n",
       "    </tr>\n",
       "    <tr>\n",
       "      <th>49</th>\n",
       "      <td>27.5</td>\n",
       "      <td>24.4</td>\n",
       "    </tr>\n",
       "    <tr>\n",
       "      <th>50</th>\n",
       "      <td>15.6</td>\n",
       "      <td>20.2</td>\n",
       "    </tr>\n",
       "  </tbody>\n",
       "</table>\n",
       "</div>"
      ],
      "text/plain": [
       "     실제값   예측값\n",
       "0   22.6  25.0\n",
       "1   50.0  23.7\n",
       "2   23.0  29.1\n",
       "3    8.3  12.3\n",
       "4   21.2  21.6\n",
       "5   19.9  19.1\n",
       "6   20.6  20.8\n",
       "7   18.7  21.4\n",
       "8   16.1  18.4\n",
       "9   18.6  19.3\n",
       "10   8.8   5.3\n",
       "11  17.2  16.7\n",
       "12  14.9  17.5\n",
       "13  10.5   5.8\n",
       "14  50.0  39.9\n",
       "15  29.0  32.4\n",
       "16  23.0  22.9\n",
       "17  33.3  36.5\n",
       "18  29.4  31.0\n",
       "19  21.0  23.1\n",
       "20  23.8  24.9\n",
       "21  19.1  24.1\n",
       "22  20.4  20.5\n",
       "23  29.1  30.2\n",
       "24  19.3  22.4\n",
       "25  23.1   8.7\n",
       "26  19.6  17.6\n",
       "27  19.4  17.7\n",
       "28  38.7  36.1\n",
       "29  18.7  20.9\n",
       "30  14.6  18.8\n",
       "31  20.0  18.2\n",
       "32  20.5  19.9\n",
       "33  20.1  23.9\n",
       "34  23.6  28.9\n",
       "35  16.8  19.2\n",
       "36   5.6  12.0\n",
       "37  50.0  24.2\n",
       "38  14.5  17.7\n",
       "39  13.3  16.1\n",
       "40  23.9  26.4\n",
       "41  20.0  21.1\n",
       "42  19.8  22.3\n",
       "43  13.8  15.6\n",
       "44  16.5  23.0\n",
       "45  21.6  25.1\n",
       "46  20.3  20.2\n",
       "47  17.0  22.5\n",
       "48  11.8   9.9\n",
       "49  27.5  24.4\n",
       "50  15.6  20.2"
      ]
     },
     "execution_count": 1,
     "metadata": {},
     "output_type": "execute_result"
    }
   ],
   "source": [
    "# 회귀 예측 결과 데이터 불러오기\n",
    "import pandas as pd\n",
    "df = pd.read_csv('/mnt/elice/dataset/regression result.csv')\n",
    "df # 연속형 값"
   ]
  },
  {
   "cell_type": "markdown",
   "id": "d9d2626a",
   "metadata": {},
   "source": [
    "## R Squared\n",
    "- `sklearn.metrics.r2_score`\n",
    "- 실제 값의 분산 대비 예측 값의 분산 비율(최고 : 1, 최악 : 음수) \n",
    "- 모델 예측 성능(설명력)을 평가하는 목적"
   ]
  },
  {
   "cell_type": "code",
   "execution_count": 2,
   "id": "8a3a991d",
   "metadata": {},
   "outputs": [
    {
     "data": {
      "text/plain": [
       "0.5145225055729962"
      ]
     },
     "execution_count": 2,
     "metadata": {},
     "output_type": "execute_result"
    }
   ],
   "source": [
    "import numpy as np\n",
    "1 - (np.sum(np.square(df['실제값'] - df['예측값'])) /  np.sum(np.square(df['실제값'] - df['실제값'].mean())))"
   ]
  },
  {
   "cell_type": "code",
   "execution_count": 3,
   "id": "c486cb8b",
   "metadata": {},
   "outputs": [
    {
     "data": {
      "text/plain": [
       "0.5145225055729962"
      ]
     },
     "execution_count": 3,
     "metadata": {},
     "output_type": "execute_result"
    }
   ],
   "source": [
    "from sklearn.metrics import r2_score\n",
    "r2_score(df['실제값'], df['예측값'])"
   ]
  },
  {
   "cell_type": "markdown",
   "id": "96907663",
   "metadata": {},
   "source": [
    "## Mean Absolute Error\n",
    "- `sklearn.metrics.mean_absolute_error`\n",
    "- 실제 값과 예측 값의 차이를 절대값으로 변환해 평균 계산\n",
    "- 오차의 크기를 그래도 반영하여 오차 평균 크기를 확인\n",
    "- 작을수록 좋지만 너무 작으면 과적합일 수 있음"
   ]
  },
  {
   "cell_type": "code",
   "execution_count": 4,
   "id": "e6c3a8e2",
   "metadata": {},
   "outputs": [
    {
     "data": {
      "text/plain": [
       "3.9294117647058826"
      ]
     },
     "execution_count": 4,
     "metadata": {},
     "output_type": "execute_result"
    }
   ],
   "source": [
    "np.mean(np.abs(df['실제값'] - df['예측값']))\n",
    "# 단위가 kg이었으면 3.92...kg으로 단위 그대로 사용 가능"
   ]
  },
  {
   "cell_type": "code",
   "execution_count": 5,
   "id": "1952e5e3",
   "metadata": {},
   "outputs": [
    {
     "data": {
      "text/plain": [
       "3.9294117647058826"
      ]
     },
     "execution_count": 5,
     "metadata": {},
     "output_type": "execute_result"
    }
   ],
   "source": [
    "from sklearn.metrics import mean_absolute_error\n",
    "mean_absolute_error(df['실제값'], df['예측값'])"
   ]
  },
  {
   "cell_type": "markdown",
   "id": "cc41580e",
   "metadata": {},
   "source": [
    "## Mean Squared Error\n",
    "- `sklearn.metrics.mean_squared_error(squared=True)`\n",
    "- 실제 값과 예측 값의 차이를 제곱해서 평균 계산\n",
    "- 작을수록 좋지만 너무 작으면 과적합일 수 있음\n",
    "- 큰 오차를 더 크게, 작은 오차는 더 작게 평가하여 이상치에 민감"
   ]
  },
  {
   "cell_type": "code",
   "execution_count": 6,
   "id": "3ad64ad2",
   "metadata": {},
   "outputs": [
    {
     "data": {
      "text/plain": [
       "41.762745098039225"
      ]
     },
     "execution_count": 6,
     "metadata": {},
     "output_type": "execute_result"
    }
   ],
   "source": [
    "np.mean(np.square(df['실제값'] - df['예측값']))"
   ]
  },
  {
   "cell_type": "code",
   "execution_count": 7,
   "id": "72cfb372",
   "metadata": {},
   "outputs": [
    {
     "data": {
      "text/plain": [
       "41.762745098039225"
      ]
     },
     "execution_count": 7,
     "metadata": {},
     "output_type": "execute_result"
    }
   ],
   "source": [
    "from sklearn.metrics import mean_squared_error\n",
    "mean_squared_error(df['실제값'], df['예측값'])"
   ]
  },
  {
   "cell_type": "markdown",
   "id": "37c852d9",
   "metadata": {},
   "source": [
    "## Root Mean Squared Error\n",
    "- sklearn.metrics.mean_squared_error(squared=False)\n",
    "- 오차의 평균 크기를 확인하는 목적, 모델 간 잔차 비교 가능 \n",
    "    - 이상치에 덜 민감함\n",
    "- 큰 오류값 차이에 대해 크게 패널티를 주기 때문\n",
    "- MSE의 크기를 줄이기 위한 목적으로 사용"
   ]
  },
  {
   "cell_type": "code",
   "execution_count": 8,
   "id": "312cb2f9",
   "metadata": {},
   "outputs": [
    {
     "data": {
      "text/plain": [
       "6.462410161699675"
      ]
     },
     "execution_count": 8,
     "metadata": {},
     "output_type": "execute_result"
    }
   ],
   "source": [
    "np.sqrt(np.mean(np.square(df['실제값'] - df['예측값'])))"
   ]
  },
  {
   "cell_type": "code",
   "execution_count": 9,
   "id": "050ad1c1",
   "metadata": {},
   "outputs": [
    {
     "data": {
      "text/plain": [
       "6.462410161699675"
      ]
     },
     "execution_count": 9,
     "metadata": {},
     "output_type": "execute_result"
    }
   ],
   "source": [
    "from sklearn.metrics import mean_squared_error\n",
    "mean_squared_error(df['실제값'], df['예측값'], squared=False)"
   ]
  },
  {
   "cell_type": "markdown",
   "id": "a3ad1fb4",
   "metadata": {},
   "source": [
    "## MSLE\n",
    "- MSE방식에 로그를 적용한 것\n",
    "- 결정 값이 클수록 오류값도 커지기 때문에 일부 큰 오류값들로 인해 전체 오류값이 커지는 것을 막아줌"
   ]
  },
  {
   "cell_type": "code",
   "execution_count": 10,
   "id": "fd50359c",
   "metadata": {},
   "outputs": [
    {
     "data": {
      "text/plain": [
       "0.07368722480462772"
      ]
     },
     "execution_count": 10,
     "metadata": {},
     "output_type": "execute_result"
    }
   ],
   "source": [
    "from sklearn.metrics import mean_squared_log_error\n",
    "mean_squared_log_error(df['실제값'], df['예측값'])"
   ]
  },
  {
   "cell_type": "markdown",
   "id": "ef2fdfe8",
   "metadata": {},
   "source": [
    "## RMSLE(MSLE에 root 적용)\n",
    "- 아웃라이어에 덜 민감함 (robust)\n",
    "    - 값의 변동폭이 크지 않음\n",
    "- 상대적 Error를 측정함\n",
    "    - 예측값 = 100, 실제값 = 90일 때, RMSLE = 0.1053, RMSE = 10\n",
    "    - 예측값 = 10,000, 실제값 = 9,000일 때, RMSLE = 0.1053, RMSE = 1,000\n",
    "- Under Estimation에 큰 패널티를 부여\n",
    "- 실제값과 예측값이 0일 경우 -infinity가 나옴.(로그니까) 유의하기"
   ]
  },
  {
   "cell_type": "code",
   "execution_count": null,
   "id": "3a1c4782",
   "metadata": {},
   "outputs": [],
   "source": [
    "from sklearn.metrics import mean_squared_log_error\n",
    "mean_squared_log_error(df['실제값'], df['예측값'], squared=False)"
   ]
  },
  {
   "cell_type": "markdown",
   "id": "75f67c85",
   "metadata": {},
   "source": [
    "## 제출\n",
    "\n",
    "제출을 위해 새로 불러온 `regression result.csv` 데이터에서 실제값과 예측값의 Mean Absolute Error 값을 구한 결과를 `result`에 저장하세요."
   ]
  },
  {
   "cell_type": "code",
   "execution_count": 11,
   "id": "3df4b7a9",
   "metadata": {},
   "outputs": [],
   "source": [
    "df = pd.read_csv('/mnt/elice/dataset/regression result.csv')\n",
    "\n",
    "# TODO: MAE 값을 계산하세요.\n",
    "result = mean_absolute_error(df['실제값'], df['예측값'])"
   ]
  },
  {
   "cell_type": "markdown",
   "id": "f475d716",
   "metadata": {},
   "source": [
    "## 채점 수행\n",
    "\n",
    "아래 코드는 채점 수행을 위한 코드입니다.\n",
    "\n",
    "따라서 이를 수정했을시 **채점이 제대로 이루어지지 않습니다.**\n",
    "\n",
    "**주의**: 채점 코드를 실행하기 전에 반드시 코드 파일을 한번 저장하시길 바랍니다."
   ]
  },
  {
   "cell_type": "code",
   "execution_count": 12,
   "id": "fc208d08",
   "metadata": {},
   "outputs": [
    {
     "name": "stdout",
     "output_type": "stream",
     "text": [
      "send files ['result.json', 'cds_ai_exercise.ipynb'] for grade...\n",
      "waiting result...\n",
      "waiting result...\n",
      "waiting result...\n",
      "done!\n",
      "\n",
      "Score: 100.000000\n",
      "Duration: 2.655 seconds\n",
      "=== Message ===\n",
      "제출 완료되었습니다.\n"
     ]
    },
    {
     "data": {
      "text/plain": [
       "0"
      ]
     },
     "execution_count": 12,
     "metadata": {},
     "output_type": "execute_result"
    }
   ],
   "source": [
    "import os\n",
    "import json\n",
    "\n",
    "with open('result.json', 'w') as f:\n",
    "    json.dump(float(result), f)\n",
    "\n",
    "os.system('elice_grade result.json cds_ai_exercise.ipynb')"
   ]
  },
  {
   "cell_type": "code",
   "execution_count": null,
   "id": "32faa3c7",
   "metadata": {},
   "outputs": [],
   "source": []
  }
 ],
 "metadata": {
  "kernelspec": {
   "display_name": "Python 3 (ipykernel)",
   "language": "python",
   "name": "python3"
  },
  "language_info": {
   "codemirror_mode": {
    "name": "ipython",
    "version": 3
   },
   "file_extension": ".py",
   "mimetype": "text/x-python",
   "name": "python",
   "nbconvert_exporter": "python",
   "pygments_lexer": "ipython3",
   "version": "3.10.10"
  },
  "vscode": {
   "interpreter": {
    "hash": "7f165b7dd02acb5f15d9542284b1c771e139a38d08f007b94e9150fcdff51bba"
   }
  }
 },
 "nbformat": 4,
 "nbformat_minor": 5
}
